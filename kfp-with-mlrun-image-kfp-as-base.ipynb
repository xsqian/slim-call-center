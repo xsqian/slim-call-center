{
 "cells": [
  {
   "cell_type": "markdown",
   "id": "e7ae5205-27c9-4d80-9430-45af76525578",
   "metadata": {},
   "source": [
    "Here is the env:\n",
    "- python 3.11\n",
    "- mlrun 1.9.1"
   ]
  },
  {
   "cell_type": "code",
   "execution_count": 1,
   "id": "e3f63b33-b7a4-4c01-8d4c-58eb7f0bdbbd",
   "metadata": {},
   "outputs": [
    {
     "name": "stdout",
     "output_type": "stream",
     "text": [
      "1.9.1\n"
     ]
    }
   ],
   "source": [
    "import mlrun\n",
    "print(mlrun.__version__)"
   ]
  },
  {
   "cell_type": "code",
   "execution_count": 2,
   "id": "56200c2a-bc19-4da9-b247-f9ffda79dc86",
   "metadata": {},
   "outputs": [
    {
     "name": "stdout",
     "output_type": "stream",
     "text": [
      "sqlalchemy version = 2.0.31\n",
      "current dir = /User/tmp1\n",
      "parent dir = /User/tmp1/../..\n",
      "Python version: 3.11.13 | packaged by conda-forge | (main, Jun  4 2025, 14:48:23) [GCC 13.3.0]\n",
      "sys.path: ['/User/tmp1/../..', '/User/tmp1/..', '/User/tmp1', '/spark/python/lib/py4j-0.10.9.5-src.zip', '/spark/python/lib/pyspark.zip', '/igz/java/libs/v3io-pyspark-e50e673f1af73b42bda987e8f93b9b6e1-rocky8.zip', '/User/.conda/envs/py311/lib/python311.zip', '/User/.conda/envs/py311/lib/python3.11', '/User/.conda/envs/py311/lib/python3.11/lib-dynload', '', '/User/.conda/envs/py311/lib/python3.11/site-packages', '/User/.conda/envs/py311/lib/python3.11/site-packages/setuptools/_vendor']\n",
      "PYTHONPATH (from environment): /spark/python/lib/py4j-0.10.9.5-src.zip:/spark/python/lib/pyspark.zip:/igz/java/libs/v3io-pyspark-e50e673f1af73b42bda987e8f93b9b6e1-rocky8.zip\n",
      "default_image_name before = .mlrun-project-image-kfp-with-mlrun-image-kfp\n",
      "Project Source: git://github.com/xsqian/slim-call-center.git#main\n",
      "default_image_name after = .mlrun-project-image-kfp-with-mlrun-image-kfp\n",
      "> 2025-07-05 16:19:15,584 [info] Project loaded successfully: {\"project_name\":\"kfp-with-mlrun-image-kfp-xingsheng\"}\n"
     ]
    },
    {
     "data": {
      "text/plain": [
       "<mlrun.projects.project.MlrunProject at 0x7f974fe44a50>"
      ]
     },
     "execution_count": 2,
     "metadata": {},
     "output_type": "execute_result"
    }
   ],
   "source": [
    "project_name = \"kfp-with-mlrun-image-kfp\"\n",
    "\n",
    "project = mlrun.get_or_create_project(\n",
    "    name=project_name,\n",
    "    user_project=True,\n",
    "    parameters={\n",
    "        \"build_image\": False,\n",
    "        \"source\": \"git://github.com/xsqian/slim-call-center.git#main\",\n",
    "        \"default_image_name\": f'.mlrun-project-image-{project_name}'\n",
    "    },\n",
    ")\n",
    "project.save()"
   ]
  },
  {
   "cell_type": "code",
   "execution_count": null,
   "id": "d0c13c83-cdeb-43ab-90aa-3fdb5020021a",
   "metadata": {},
   "outputs": [
    {
     "name": "stdout",
     "output_type": "stream",
     "text": [
      "> 2025-07-05 16:19:33,638 [info] Submitting remote workflow: {\"project_name\":\"kfp-with-mlrun-image-kfp-xingsheng\",\"schedule\":null,\"workflow_engine\":\"kfp\"}\n"
     ]
    }
   ],
   "source": [
    "project.run('dummy', dirty=True, watch=True, engine=\"remote\", timeout=60 * 60, arguments={\"build_image\": False,}) "
   ]
  },
  {
   "cell_type": "code",
   "execution_count": null,
   "id": "3fe855e1-0719-4449-9cf1-f26bd2890f32",
   "metadata": {},
   "outputs": [],
   "source": []
  },
  {
   "cell_type": "code",
   "execution_count": null,
   "id": "9e2a5459-0b62-4083-a679-2edc343410bd",
   "metadata": {},
   "outputs": [],
   "source": []
  }
 ],
 "metadata": {
  "kernelspec": {
   "display_name": "py311",
   "language": "python",
   "name": "conda-env-.conda-py311-py"
  },
  "language_info": {
   "codemirror_mode": {
    "name": "ipython",
    "version": 3
   },
   "file_extension": ".py",
   "mimetype": "text/x-python",
   "name": "python",
   "nbconvert_exporter": "python",
   "pygments_lexer": "ipython3",
   "version": "3.11.13"
  }
 },
 "nbformat": 4,
 "nbformat_minor": 5
}
