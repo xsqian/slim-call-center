{
 "cells": [
  {
   "cell_type": "markdown",
   "id": "e7ae5205-27c9-4d80-9430-45af76525578",
   "metadata": {},
   "source": [
    "Here is the env:\n",
    "- python 3.11\n",
    "- mlrun 1.9.1"
   ]
  },
  {
   "cell_type": "code",
   "execution_count": 1,
   "id": "e3f63b33-b7a4-4c01-8d4c-58eb7f0bdbbd",
   "metadata": {},
   "outputs": [
    {
     "name": "stdout",
     "output_type": "stream",
     "text": [
      "1.9.1\n"
     ]
    }
   ],
   "source": [
    "import mlrun\n",
    "print(mlrun.__version__)"
   ]
  },
  {
   "cell_type": "markdown",
   "id": "9b5033c2-5777-4915-a68d-4e797fef53c0",
   "metadata": {},
   "source": [
    "### chnage \"build_image\": True, once to build the default image for the project"
   ]
  },
  {
   "cell_type": "code",
   "execution_count": 3,
   "id": "56200c2a-bc19-4da9-b247-f9ffda79dc86",
   "metadata": {},
   "outputs": [
    {
     "name": "stdout",
     "output_type": "stream",
     "text": [
      "get_param source = git://github.com/xsqian/slim-call-center.git#dan\n",
      "get_param default_image = .mlrun-project-image-kfp-with-mlrun-image-kfp\n",
      "get_param build_image = False\n",
      "Project Source: git://github.com/xsqian/slim-call-center.git#dan\n",
      "outside default_image = .mlrun-project-image-kfp-with-mlrun-image-kfp\n",
      "indise default_image = .mlrun-project-image-kfp-with-mlrun-image-kfp\n",
      "default_image after = .mlrun-project-image-kfp-with-mlrun-image-kfp\n",
      "project.spec.source = git://github.com/xsqian/slim-call-center.git#dan\n",
      "> 2025-07-08 02:22:47,666 [info] Started building image: .slim-demo-call-center-kfp\n",
      "Enumerating objects: 177, done.\n",
      "Counting objects: 100% (177/177), done.\n",
      "Compressing objects: 100% (117/117), done.\n",
      "Total 177 (delta 92), reused 137 (delta 52), pack-reused 0 (from 0)\n",
      "\u001b[36mINFO\u001b[0m[0005] Retrieving image manifest mlrun/mlrun-kfp:1.9.1 \n",
      "\u001b[36mINFO\u001b[0m[0005] Retrieving image mlrun/mlrun-kfp:1.9.1 from registry index.docker.io \n",
      "\u001b[36mINFO\u001b[0m[0005] Built cross stage deps: map[]                \n",
      "\u001b[36mINFO\u001b[0m[0005] Retrieving image manifest mlrun/mlrun-kfp:1.9.1 \n",
      "\u001b[36mINFO\u001b[0m[0005] Returning cached image manifest              \n",
      "\u001b[36mINFO\u001b[0m[0005] Executing 0 build triggers                   \n",
      "\u001b[36mINFO\u001b[0m[0005] Building stage 'mlrun/mlrun-kfp:1.9.1' [idx: '0', base-idx: '-1'] \n",
      "\u001b[36mINFO\u001b[0m[0005] Unpacking rootfs as cmd ADD . /home/mlrun_code/ requires it. \n",
      "\u001b[36mINFO\u001b[0m[0029] ARG Key=Value                                \n",
      "\u001b[36mINFO\u001b[0m[0029] Using files from context: [/kaniko/buildcontext] \n",
      "\u001b[36mINFO\u001b[0m[0029] ADD . /home/mlrun_code/                      \n",
      "\u001b[36mINFO\u001b[0m[0029] Taking snapshot of files...                  \n",
      "\u001b[36mINFO\u001b[0m[0029] ENV PYTHONPATH /home/mlrun_code/             \n",
      "\u001b[36mINFO\u001b[0m[0029] RUN pip install SQLAlchemy==2.0.31 &&               echo \"\" > /empty/requirements.txt &&               ls -l /empty/ &&               cat /empty/Dockerfile &&               ls -l /home/ &&               rm -rf /home/mlrun-code/project_setup.py \n",
      "\u001b[36mINFO\u001b[0m[0029] Initializing snapshotter ...                 \n",
      "\u001b[36mINFO\u001b[0m[0029] Taking snapshot of full filesystem...        \n",
      "\u001b[36mINFO\u001b[0m[0051] Cmd: /bin/sh                                 \n",
      "\u001b[36mINFO\u001b[0m[0051] Args: [-c pip install SQLAlchemy==2.0.31 &&               echo \"\" > /empty/requirements.txt &&               ls -l /empty/ &&               cat /empty/Dockerfile &&               ls -l /home/ &&               rm -rf /home/mlrun-code/project_setup.py] \n",
      "\u001b[36mINFO\u001b[0m[0051] Running: [/bin/sh -c pip install SQLAlchemy==2.0.31 &&               echo \"\" > /empty/requirements.txt &&               ls -l /empty/ &&               cat /empty/Dockerfile &&               ls -l /home/ &&               rm -rf /home/mlrun-code/project_setup.py] \n",
      "Collecting SQLAlchemy==2.0.31\n",
      "  Downloading SQLAlchemy-2.0.31-cp39-cp39-manylinux_2_17_x86_64.manylinux2014_x86_64.whl.metadata (9.6 kB)\n",
      "Requirement already satisfied: typing-extensions>=4.6.0 in /usr/local/lib/python3.9/site-packages (from SQLAlchemy==2.0.31) (4.14.0)\n",
      "Requirement already satisfied: greenlet!=0.4.17 in /usr/local/lib/python3.9/site-packages (from SQLAlchemy==2.0.31) (3.2.3)\n",
      "Downloading SQLAlchemy-2.0.31-cp39-cp39-manylinux_2_17_x86_64.manylinux2014_x86_64.whl (3.1 MB)\n",
      "   ━━━━━━━━━━━━━━━━━━━━━━━━━━━━━━━━━━━━━━━━ 3.1/3.1 MB 68.1 MB/s eta 0:00:00\n",
      "Installing collected packages: SQLAlchemy\n",
      "  Attempting uninstall: SQLAlchemy\n",
      "    Found existing installation: SQLAlchemy 1.4.54\n",
      "    Uninstalling SQLAlchemy-1.4.54:\n",
      "      Successfully uninstalled SQLAlchemy-1.4.54\n",
      "Successfully installed SQLAlchemy-2.0.31\n",
      "WARNING: Running pip as the 'root' user can result in broken permissions and conflicting behaviour with the system package manager, possibly rendering your system unusable. It is recommended to use a virtual environment instead: https://pip.pypa.io/warnings/venv. Use the --root-user-action option if you know what you are doing and want to suppress this warning.\n",
      "\n",
      "[notice] A new release of pip is available: 25.0.1 -> 25.1.1\n",
      "[notice] To update, run: pip install --upgrade pip\n",
      "total 8\n",
      "-rw-r--r-- 1 root root 342 Jul  8 02:22 Dockerfile\n",
      "-rw-r--r-- 1 root root   1 Jul  8 02:23 requirements.txt\n",
      "FROM mlrun/mlrun-kfp:1.9.1\n",
      "ARG Key=Value\n",
      "ADD . /home/mlrun_code/\n",
      "ENV PYTHONPATH /home/mlrun_code/\n",
      "RUN pip install SQLAlchemy==2.0.31 &&               echo \"\" > /empty/requirements.txt &&               ls -l /empty/ &&               cat /empty/Dockerfile &&               ls -l /home/ &&               rm -rf /home/mlrun-code/project_setup.py\n",
      "total 0\n",
      "drwxr-xr-x 6 root root 199 Jul  8 02:23 mlrun_code\n",
      "\u001b[36mINFO\u001b[0m[0054] Taking snapshot of full filesystem...        \n",
      "\u001b[36mINFO\u001b[0m[0058] Pushing image to docker-registry.default-tenant.app.cst-360.iguazio-cd0.com/slim-demo-call-center-kfp \n",
      "\u001b[36mINFO\u001b[0m[0058] Pushed docker-registry.default-tenant.app.cst-360.iguazio-cd0.com/slim-demo-call-center-kfp@sha256:3eb1182ca72bcd469a549b677a265321c6643bb41a8875b5565b62426fd8ae39 \n",
      "> 2025-07-08 02:23:51,213 [info] Function is being deleted: {\"function_name\":\"mlrun--project--image--builder\",\"project_name\":\"default\"}\n",
      "> 2025-07-08 02:23:51,232 [info] Function deleted: {\"function_name\":\"mlrun--project--image--builder\",\"project_name\":\"default\"}\n",
      "> 2025-07-08 02:23:51,411 [info] Project loaded successfully: {\"project_name\":\"kfp-with-mlrun-image-kfp-xingsheng\"}\n"
     ]
    },
    {
     "data": {
      "text/plain": [
       "<mlrun.projects.project.MlrunProject at 0x7fa2176b2cd0>"
      ]
     },
     "execution_count": 3,
     "metadata": {},
     "output_type": "execute_result"
    }
   ],
   "source": [
    "project_name = \"kfp-with-mlrun-image-kfp\"\n",
    "\n",
    "project = mlrun.get_or_create_project(\n",
    "    name=project_name,\n",
    "    user_project=True,\n",
    "    parameters={\n",
    "        \"build_image\": False,\n",
    "        \"source\": \"git://github.com/xsqian/slim-call-center.git#dan\",\n",
    "        \"default_image\": f'.mlrun-project-image-{project_name}',\n",
    "    },\n",
    ")\n",
    "project.save()"
   ]
  },
  {
   "cell_type": "code",
   "execution_count": 5,
   "id": "d0c13c83-cdeb-43ab-90aa-3fdb5020021a",
   "metadata": {},
   "outputs": [
    {
     "name": "stdout",
     "output_type": "stream",
     "text": [
      "> 2025-07-08 02:28:00,534 [info] Submitting remote workflow: {\"project_name\":\"kfp-with-mlrun-image-kfp-xingsheng\",\"schedule\":null,\"workflow_engine\":\"kfp\"}\n",
      "> 2025-07-08 02:30:14,013 [info] Started run workflow kfp-with-mlrun-image-kfp-xingsheng-dummy with run id = '40621347-54cc-43a4-b98a-9165d207e2ac' by remote engine\n",
      "> 2025-07-08 02:30:14,013 [info] Waiting for pipeline run completion: {\"project\":\"kfp-with-mlrun-image-kfp-xingsheng\",\"run_id\":\"40621347-54cc-43a4-b98a-9165d207e2ac\"}\n"
     ]
    },
    {
     "data": {
      "text/html": [
       "<div id=\"1a8a23c726dd450697594470c19fb298\">Temporary Display Content</div>"
      ],
      "text/plain": [
       "<IPython.core.display.HTML object>"
      ]
     },
     "metadata": {},
     "output_type": "display_data"
    },
    {
     "data": {
      "text/html": [
       "<h2>Run Results</h2><h3>[info] Workflow 40621347-54cc-43a4-b98a-9165d207e2ac finished with 1 errors, state=Unknown</h3><br>click the hyper links below to see detailed results<br><table border=\"1\" class=\"dataframe\">\n",
       "  <thead>\n",
       "    <tr style=\"text-align: right;\">\n",
       "      <th>uid</th>\n",
       "      <th>start</th>\n",
       "      <th>end</th>\n",
       "      <th>state</th>\n",
       "      <th>kind</th>\n",
       "      <th>name</th>\n",
       "      <th>parameters</th>\n",
       "      <th>results</th>\n",
       "    </tr>\n",
       "  </thead>\n",
       "  <tbody>\n",
       "    <tr>\n",
       "      <td><div title=\"f7678e2c73b648b280710415565b2f84\"><a href=\"https://dashboard.default-tenant.app.cst-360.iguazio-cd0.com/mlprojects/kfp-with-mlrun-image-kfp-xingsheng/jobs/monitor-jobs/printdummy/f7678e2c73b648b280710415565b2f84/overview\" target=\"_blank\" >...565b2f84</a></div></td>\n",
       "      <td>Jul 08 02:32:06</td>\n",
       "      <td>2025-07-08 02:32:17.353823+00:00</td>\n",
       "      <td>completed</td>\n",
       "      <td>run</td>\n",
       "      <td>printdummy</td>\n",
       "      <td></td>\n",
       "      <td></td>\n",
       "    </tr>\n",
       "    <tr>\n",
       "      <td><div title=\"a085d03b5ee64df1bb8d6899c3a8bd88\"><a href=\"https://dashboard.default-tenant.app.cst-360.iguazio-cd0.com/mlprojects/kfp-with-mlrun-image-kfp-xingsheng/jobs/monitor-jobs/another-dummy/a085d03b5ee64df1bb8d6899c3a8bd88/overview\" target=\"_blank\" >...c3a8bd88</a></div></td>\n",
       "      <td>Jul 08 02:31:10</td>\n",
       "      <td>2025-07-08 02:31:10.798968+00:00</td>\n",
       "      <td><div style=\"color: red;\" title=\"/opt/conda/bin/python: can't open file '/home/mlrun_code/./src/sub/printdummy.py': [Errno 2] No such file or directory\\n\">error</div></td>\n",
       "      <td>run</td>\n",
       "      <td>another-dummy</td>\n",
       "      <td></td>\n",
       "      <td></td>\n",
       "    </tr>\n",
       "  </tbody>\n",
       "</table>"
      ],
      "text/plain": [
       "<IPython.core.display.HTML object>"
      ]
     },
     "metadata": {},
     "output_type": "display_data"
    },
    {
     "ename": "RuntimeError",
     "evalue": "Pipeline run status Failed",
     "output_type": "error",
     "traceback": [
      "\u001b[0;31m---------------------------------------------------------------------------\u001b[0m",
      "\u001b[0;31mRuntimeError\u001b[0m                              Traceback (most recent call last)",
      "Cell \u001b[0;32mIn[5], line 1\u001b[0m\n\u001b[0;32m----> 1\u001b[0m \u001b[43mproject\u001b[49m\u001b[38;5;241;43m.\u001b[39;49m\u001b[43mrun\u001b[49m\u001b[43m(\u001b[49m\u001b[38;5;124;43m'\u001b[39;49m\u001b[38;5;124;43mdummy\u001b[39;49m\u001b[38;5;124;43m'\u001b[39;49m\u001b[43m,\u001b[49m\u001b[43m \u001b[49m\u001b[43mdirty\u001b[49m\u001b[38;5;241;43m=\u001b[39;49m\u001b[38;5;28;43;01mTrue\u001b[39;49;00m\u001b[43m,\u001b[49m\u001b[43m \u001b[49m\u001b[43mwatch\u001b[49m\u001b[38;5;241;43m=\u001b[39;49m\u001b[38;5;28;43;01mTrue\u001b[39;49;00m\u001b[43m,\u001b[49m\u001b[43m \u001b[49m\u001b[43mengine\u001b[49m\u001b[38;5;241;43m=\u001b[39;49m\u001b[38;5;124;43m\"\u001b[39;49m\u001b[38;5;124;43mremote\u001b[39;49m\u001b[38;5;124;43m\"\u001b[39;49m\u001b[43m,\u001b[49m\u001b[43m \u001b[49m\u001b[43mtimeout\u001b[49m\u001b[38;5;241;43m=\u001b[39;49m\u001b[38;5;241;43m60\u001b[39;49m\u001b[43m \u001b[49m\u001b[38;5;241;43m*\u001b[39;49m\u001b[43m \u001b[49m\u001b[38;5;241;43m60\u001b[39;49m\u001b[43m,\u001b[49m\u001b[43m \u001b[49m\u001b[43marguments\u001b[49m\u001b[38;5;241;43m=\u001b[39;49m\u001b[43m{\u001b[49m\u001b[38;5;124;43m\"\u001b[39;49m\u001b[38;5;124;43mbuild_image\u001b[39;49m\u001b[38;5;124;43m\"\u001b[39;49m\u001b[43m:\u001b[49m\u001b[43m \u001b[49m\u001b[38;5;28;43;01mFalse\u001b[39;49;00m\u001b[43m,\u001b[49m\u001b[43m}\u001b[49m\u001b[43m)\u001b[49m \n",
      "File \u001b[0;32m~/.conda/envs/py311/lib/python3.11/site-packages/mlrun/projects/project.py:3576\u001b[0m, in \u001b[0;36mMlrunProject.run\u001b[0;34m(self, name, workflow_path, arguments, artifact_path, workflow_handler, namespace, sync, watch, dirty, engine, local, schedule, timeout, source, cleanup_ttl, notifications, workflow_runner_node_selector, context)\u001b[0m\n\u001b[1;32m   3573\u001b[0m         status_engine \u001b[38;5;241m=\u001b[39m _RemoteRunner\n\u001b[1;32m   3574\u001b[0m         run_status_kwargs[\u001b[38;5;124m\"\u001b[39m\u001b[38;5;124minner_engine\u001b[39m\u001b[38;5;124m\"\u001b[39m] \u001b[38;5;241m=\u001b[39m run\u001b[38;5;241m.\u001b[39m_engine\n\u001b[0;32m-> 3576\u001b[0m     \u001b[43mstatus_engine\u001b[49m\u001b[38;5;241;43m.\u001b[39;49m\u001b[43mget_run_status\u001b[49m\u001b[43m(\u001b[49m\n\u001b[1;32m   3577\u001b[0m \u001b[43m        \u001b[49m\u001b[43mproject\u001b[49m\u001b[38;5;241;43m=\u001b[39;49m\u001b[38;5;28;43mself\u001b[39;49m\u001b[43m,\u001b[49m\u001b[43m \u001b[49m\u001b[43mrun\u001b[49m\u001b[38;5;241;43m=\u001b[39;49m\u001b[43mrun\u001b[49m\u001b[43m,\u001b[49m\u001b[43m \u001b[49m\u001b[43mtimeout\u001b[49m\u001b[38;5;241;43m=\u001b[39;49m\u001b[43mtimeout\u001b[49m\u001b[43m,\u001b[49m\u001b[43m \u001b[49m\u001b[38;5;241;43m*\u001b[39;49m\u001b[38;5;241;43m*\u001b[39;49m\u001b[43mrun_status_kwargs\u001b[49m\n\u001b[1;32m   3578\u001b[0m \u001b[43m    \u001b[49m\u001b[43m)\u001b[49m\n\u001b[1;32m   3579\u001b[0m \u001b[38;5;28;01mreturn\u001b[39;00m run\n",
      "File \u001b[0;32m~/.conda/envs/py311/lib/python3.11/site-packages/mlrun/projects/pipelines.py:970\u001b[0m, in \u001b[0;36m_RemoteRunner.get_run_status\u001b[0;34m(project, run, timeout, expected_statuses, notifiers, inner_engine)\u001b[0m\n\u001b[1;32m    962\u001b[0m     local_project_notifiers \u001b[38;5;241m=\u001b[39m \u001b[38;5;28mlist\u001b[39m(\n\u001b[1;32m    963\u001b[0m         \u001b[38;5;28mset\u001b[39m(mlrun\u001b[38;5;241m.\u001b[39mutils\u001b[38;5;241m.\u001b[39mnotifications\u001b[38;5;241m.\u001b[39mNotificationTypes\u001b[38;5;241m.\u001b[39mlocal())\u001b[38;5;241m.\u001b[39mintersection(\n\u001b[1;32m    964\u001b[0m             \u001b[38;5;28mset\u001b[39m(project\u001b[38;5;241m.\u001b[39mnotifiers\u001b[38;5;241m.\u001b[39mnotifications\u001b[38;5;241m.\u001b[39mkeys())\n\u001b[1;32m    965\u001b[0m         )\n\u001b[1;32m    966\u001b[0m     )\n\u001b[1;32m    967\u001b[0m     notifiers \u001b[38;5;241m=\u001b[39m mlrun\u001b[38;5;241m.\u001b[39mutils\u001b[38;5;241m.\u001b[39mnotifications\u001b[38;5;241m.\u001b[39mCustomNotificationPusher(\n\u001b[1;32m    968\u001b[0m         local_project_notifiers\n\u001b[1;32m    969\u001b[0m     )\n\u001b[0;32m--> 970\u001b[0m     \u001b[38;5;28;01mreturn\u001b[39;00m \u001b[43m_KFPRunner\u001b[49m\u001b[38;5;241;43m.\u001b[39;49m\u001b[43mget_run_status\u001b[49m\u001b[43m(\u001b[49m\n\u001b[1;32m    971\u001b[0m \u001b[43m        \u001b[49m\u001b[43mproject\u001b[49m\u001b[43m,\u001b[49m\n\u001b[1;32m    972\u001b[0m \u001b[43m        \u001b[49m\u001b[43mrun\u001b[49m\u001b[43m,\u001b[49m\n\u001b[1;32m    973\u001b[0m \u001b[43m        \u001b[49m\u001b[43mtimeout\u001b[49m\u001b[43m,\u001b[49m\n\u001b[1;32m    974\u001b[0m \u001b[43m        \u001b[49m\u001b[43mexpected_statuses\u001b[49m\u001b[43m,\u001b[49m\n\u001b[1;32m    975\u001b[0m \u001b[43m        \u001b[49m\u001b[43mnotifiers\u001b[49m\u001b[38;5;241;43m=\u001b[39;49m\u001b[43mnotifiers\u001b[49m\u001b[43m,\u001b[49m\n\u001b[1;32m    976\u001b[0m \u001b[43m    \u001b[49m\u001b[43m)\u001b[49m\n\u001b[1;32m    978\u001b[0m \u001b[38;5;28;01melif\u001b[39;00m inner_engine\u001b[38;5;241m.\u001b[39mengine \u001b[38;5;241m==\u001b[39m _LocalRunner\u001b[38;5;241m.\u001b[39mengine:\n\u001b[1;32m    979\u001b[0m     mldb \u001b[38;5;241m=\u001b[39m mlrun\u001b[38;5;241m.\u001b[39mdb\u001b[38;5;241m.\u001b[39mget_run_db(secrets\u001b[38;5;241m=\u001b[39mproject\u001b[38;5;241m.\u001b[39m_secrets)\n",
      "File \u001b[0;32m~/.conda/envs/py311/lib/python3.11/site-packages/mlrun/projects/pipelines.py:533\u001b[0m, in \u001b[0;36m_PipelineRunner.get_run_status\u001b[0;34m(project, run, timeout, expected_statuses, notifiers, **kwargs)\u001b[0m\n\u001b[1;32m    530\u001b[0m project\u001b[38;5;241m.\u001b[39mpush_pipeline_notification_kfp_runner(run\u001b[38;5;241m.\u001b[39mrun_id, run\u001b[38;5;241m.\u001b[39m_state, text)\n\u001b[1;32m    532\u001b[0m \u001b[38;5;28;01mif\u001b[39;00m raise_error:\n\u001b[0;32m--> 533\u001b[0m     \u001b[38;5;28;01mraise\u001b[39;00m raise_error\n\u001b[1;32m    534\u001b[0m \u001b[38;5;28;01mreturn\u001b[39;00m state \u001b[38;5;129;01mor\u001b[39;00m run\u001b[38;5;241m.\u001b[39m_state, errors_counter, text\n",
      "File \u001b[0;32m~/.conda/envs/py311/lib/python3.11/site-packages/mlrun/projects/pipelines.py:507\u001b[0m, in \u001b[0;36m_PipelineRunner.get_run_status\u001b[0;34m(project, run, timeout, expected_statuses, notifiers, **kwargs)\u001b[0m\n\u001b[1;32m    505\u001b[0m \u001b[38;5;28;01mtry\u001b[39;00m:\n\u001b[1;32m    506\u001b[0m     \u001b[38;5;28;01mif\u001b[39;00m timeout:\n\u001b[0;32m--> 507\u001b[0m         state \u001b[38;5;241m=\u001b[39m \u001b[43mrun\u001b[49m\u001b[38;5;241;43m.\u001b[39;49m\u001b[43mwait_for_completion\u001b[49m\u001b[43m(\u001b[49m\n\u001b[1;32m    508\u001b[0m \u001b[43m            \u001b[49m\u001b[43mtimeout\u001b[49m\u001b[38;5;241;43m=\u001b[39;49m\u001b[43mtimeout\u001b[49m\u001b[43m,\u001b[49m\u001b[43m \u001b[49m\u001b[43mexpected_statuses\u001b[49m\u001b[38;5;241;43m=\u001b[39;49m\u001b[43mexpected_statuses\u001b[49m\n\u001b[1;32m    509\u001b[0m \u001b[43m        \u001b[49m\u001b[43m)\u001b[49m\n\u001b[1;32m    510\u001b[0m \u001b[38;5;28;01mexcept\u001b[39;00m \u001b[38;5;167;01mRuntimeError\u001b[39;00m \u001b[38;5;28;01mas\u001b[39;00m exc:\n\u001b[1;32m    511\u001b[0m     \u001b[38;5;66;03m# push runs table also when we have errors\u001b[39;00m\n\u001b[1;32m    512\u001b[0m     raise_error \u001b[38;5;241m=\u001b[39m exc\n",
      "File \u001b[0;32m~/.conda/envs/py311/lib/python3.11/site-packages/mlrun/projects/pipelines.py:413\u001b[0m, in \u001b[0;36m_PipelineRunStatus.wait_for_completion\u001b[0;34m(self, timeout, expected_statuses)\u001b[0m\n\u001b[1;32m    412\u001b[0m \u001b[38;5;28;01mdef\u001b[39;00m\u001b[38;5;250m \u001b[39m\u001b[38;5;21mwait_for_completion\u001b[39m(\u001b[38;5;28mself\u001b[39m, timeout\u001b[38;5;241m=\u001b[39m\u001b[38;5;28;01mNone\u001b[39;00m, expected_statuses\u001b[38;5;241m=\u001b[39m\u001b[38;5;28;01mNone\u001b[39;00m):\n\u001b[0;32m--> 413\u001b[0m     returned_state \u001b[38;5;241m=\u001b[39m \u001b[38;5;28;43mself\u001b[39;49m\u001b[38;5;241;43m.\u001b[39;49m\u001b[43m_engine\u001b[49m\u001b[38;5;241;43m.\u001b[39;49m\u001b[43mwait_for_completion\u001b[49m\u001b[43m(\u001b[49m\n\u001b[1;32m    414\u001b[0m \u001b[43m        \u001b[49m\u001b[38;5;28;43mself\u001b[39;49m\u001b[43m,\u001b[49m\n\u001b[1;32m    415\u001b[0m \u001b[43m        \u001b[49m\u001b[43mproject\u001b[49m\u001b[38;5;241;43m=\u001b[39;49m\u001b[38;5;28;43mself\u001b[39;49m\u001b[38;5;241;43m.\u001b[39;49m\u001b[43mproject\u001b[49m\u001b[43m,\u001b[49m\n\u001b[1;32m    416\u001b[0m \u001b[43m        \u001b[49m\u001b[43mtimeout\u001b[49m\u001b[38;5;241;43m=\u001b[39;49m\u001b[43mtimeout\u001b[49m\u001b[43m,\u001b[49m\n\u001b[1;32m    417\u001b[0m \u001b[43m        \u001b[49m\u001b[43mexpected_statuses\u001b[49m\u001b[38;5;241;43m=\u001b[39;49m\u001b[43mexpected_statuses\u001b[49m\u001b[43m,\u001b[49m\n\u001b[1;32m    418\u001b[0m \u001b[43m    \u001b[49m\u001b[43m)\u001b[49m\n\u001b[1;32m    419\u001b[0m     \u001b[38;5;66;03m# TODO: returning a state is optional until all runners implement wait_for_completion\u001b[39;00m\n\u001b[1;32m    420\u001b[0m     \u001b[38;5;28;01mif\u001b[39;00m returned_state:\n",
      "File \u001b[0;32m~/.conda/envs/py311/lib/python3.11/site-packages/mlrun/projects/pipelines.py:713\u001b[0m, in \u001b[0;36m_KFPRunner.wait_for_completion\u001b[0;34m(run, project, timeout, expected_statuses)\u001b[0m\n\u001b[1;32m    707\u001b[0m logger\u001b[38;5;241m.\u001b[39minfo(\n\u001b[1;32m    708\u001b[0m     \u001b[38;5;124m\"\u001b[39m\u001b[38;5;124mWaiting for pipeline run completion\u001b[39m\u001b[38;5;124m\"\u001b[39m,\n\u001b[1;32m    709\u001b[0m     run_id\u001b[38;5;241m=\u001b[39mrun\u001b[38;5;241m.\u001b[39mrun_id,\n\u001b[1;32m    710\u001b[0m     project\u001b[38;5;241m=\u001b[39mproject_name,\n\u001b[1;32m    711\u001b[0m )\n\u001b[1;32m    712\u001b[0m timeout \u001b[38;5;241m=\u001b[39m timeout \u001b[38;5;129;01mor\u001b[39;00m \u001b[38;5;241m60\u001b[39m \u001b[38;5;241m*\u001b[39m \u001b[38;5;241m60\u001b[39m\n\u001b[0;32m--> 713\u001b[0m run_info \u001b[38;5;241m=\u001b[39m \u001b[43mwait_for_pipeline_completion\u001b[49m\u001b[43m(\u001b[49m\n\u001b[1;32m    714\u001b[0m \u001b[43m    \u001b[49m\u001b[43mrun\u001b[49m\u001b[38;5;241;43m.\u001b[39;49m\u001b[43mrun_id\u001b[49m\u001b[43m,\u001b[49m\n\u001b[1;32m    715\u001b[0m \u001b[43m    \u001b[49m\u001b[43mtimeout\u001b[49m\u001b[38;5;241;43m=\u001b[39;49m\u001b[43mtimeout\u001b[49m\u001b[43m,\u001b[49m\n\u001b[1;32m    716\u001b[0m \u001b[43m    \u001b[49m\u001b[43mexpected_statuses\u001b[49m\u001b[38;5;241;43m=\u001b[39;49m\u001b[43mexpected_statuses\u001b[49m\u001b[43m,\u001b[49m\n\u001b[1;32m    717\u001b[0m \u001b[43m    \u001b[49m\u001b[43mproject\u001b[49m\u001b[38;5;241;43m=\u001b[39;49m\u001b[43mproject_name\u001b[49m\u001b[43m,\u001b[49m\n\u001b[1;32m    718\u001b[0m \u001b[43m\u001b[49m\u001b[43m)\u001b[49m\n\u001b[1;32m    719\u001b[0m status \u001b[38;5;241m=\u001b[39m \u001b[38;5;124m\"\u001b[39m\u001b[38;5;124m\"\u001b[39m\n\u001b[1;32m    720\u001b[0m \u001b[38;5;28;01mif\u001b[39;00m run_info:\n",
      "File \u001b[0;32m~/.conda/envs/py311/lib/python3.11/site-packages/mlrun/run.py:1029\u001b[0m, in \u001b[0;36mwait_for_pipeline_completion\u001b[0;34m(run_id, timeout, expected_statuses, namespace, remote, project)\u001b[0m\n\u001b[1;32m   1027\u001b[0m \u001b[38;5;28;01mif\u001b[39;00m expected_statuses:\n\u001b[1;32m   1028\u001b[0m     \u001b[38;5;28;01mif\u001b[39;00m status \u001b[38;5;129;01mnot\u001b[39;00m \u001b[38;5;129;01min\u001b[39;00m expected_statuses:\n\u001b[0;32m-> 1029\u001b[0m         \u001b[38;5;28;01mraise\u001b[39;00m \u001b[38;5;167;01mRuntimeError\u001b[39;00m(\n\u001b[1;32m   1030\u001b[0m             \u001b[38;5;124mf\u001b[39m\u001b[38;5;124m\"\u001b[39m\u001b[38;5;124mPipeline run status \u001b[39m\u001b[38;5;132;01m{\u001b[39;00mstatus\u001b[38;5;132;01m}\u001b[39;00m\u001b[38;5;132;01m{\u001b[39;00m\u001b[38;5;124m'\u001b[39m\u001b[38;5;124m, \u001b[39m\u001b[38;5;124m'\u001b[39m\u001b[38;5;250m \u001b[39m\u001b[38;5;241m+\u001b[39m\u001b[38;5;250m \u001b[39mmessage\u001b[38;5;250m \u001b[39m\u001b[38;5;28;01mif\u001b[39;00m\u001b[38;5;250m \u001b[39mmessage\u001b[38;5;250m \u001b[39m\u001b[38;5;28;01melse\u001b[39;00m\u001b[38;5;250m \u001b[39m\u001b[38;5;124m'\u001b[39m\u001b[38;5;124m'\u001b[39m\u001b[38;5;132;01m}\u001b[39;00m\u001b[38;5;124m\"\u001b[39m\n\u001b[1;32m   1031\u001b[0m         )\n\u001b[1;32m   1033\u001b[0m logger\u001b[38;5;241m.\u001b[39mdebug(\n\u001b[1;32m   1034\u001b[0m     \u001b[38;5;124mf\u001b[39m\u001b[38;5;124m\"\u001b[39m\u001b[38;5;124mFinished waiting for pipeline completion.\u001b[39m\u001b[38;5;124m\"\u001b[39m\n\u001b[1;32m   1035\u001b[0m     \u001b[38;5;124mf\u001b[39m\u001b[38;5;124m\"\u001b[39m\u001b[38;5;124m run_id: \u001b[39m\u001b[38;5;132;01m{\u001b[39;00mrun_id\u001b[38;5;132;01m}\u001b[39;00m\u001b[38;5;124m,\u001b[39m\u001b[38;5;124m\"\u001b[39m\n\u001b[0;32m   (...)\u001b[0m\n\u001b[1;32m   1038\u001b[0m     \u001b[38;5;124mf\u001b[39m\u001b[38;5;124m\"\u001b[39m\u001b[38;5;124m namespace: \u001b[39m\u001b[38;5;132;01m{\u001b[39;00mnamespace\u001b[38;5;132;01m}\u001b[39;00m\u001b[38;5;124m\"\u001b[39m\n\u001b[1;32m   1039\u001b[0m )\n\u001b[1;32m   1041\u001b[0m \u001b[38;5;28;01mreturn\u001b[39;00m resp\n",
      "\u001b[0;31mRuntimeError\u001b[0m: Pipeline run status Failed"
     ]
    }
   ],
   "source": [
    "project.run('dummy', dirty=True, watch=True, engine=\"remote\", timeout=60 * 60, arguments={\"build_image\": False,}) "
   ]
  },
  {
   "cell_type": "code",
   "execution_count": null,
   "id": "9e2a5459-0b62-4083-a679-2edc343410bd",
   "metadata": {},
   "outputs": [],
   "source": []
  },
  {
   "cell_type": "code",
   "execution_count": null,
   "id": "2e58f37d-c1f2-43b6-84f5-f13b53879b57",
   "metadata": {},
   "outputs": [],
   "source": []
  }
 ],
 "metadata": {
  "kernelspec": {
   "display_name": "py311",
   "language": "python",
   "name": "conda-env-.conda-py311-py"
  },
  "language_info": {
   "codemirror_mode": {
    "name": "ipython",
    "version": 3
   },
   "file_extension": ".py",
   "mimetype": "text/x-python",
   "name": "python",
   "nbconvert_exporter": "python",
   "pygments_lexer": "ipython3",
   "version": "3.11.13"
  }
 },
 "nbformat": 4,
 "nbformat_minor": 5
}
