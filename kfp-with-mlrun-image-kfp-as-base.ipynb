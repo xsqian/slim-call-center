{
 "cells": [
  {
   "cell_type": "markdown",
   "id": "e7ae5205-27c9-4d80-9430-45af76525578",
   "metadata": {},
   "source": [
    "Here is the env:\n",
    "- python 3.11\n",
    "- mlrun 1.9.1"
   ]
  },
  {
   "cell_type": "code",
   "execution_count": 2,
   "id": "e3f63b33-b7a4-4c01-8d4c-58eb7f0bdbbd",
   "metadata": {},
   "outputs": [
    {
     "name": "stdout",
     "output_type": "stream",
     "text": [
      "1.9.1\n"
     ]
    }
   ],
   "source": [
    "import mlrun\n",
    "print(mlrun.__version__)"
   ]
  },
  {
   "cell_type": "code",
   "execution_count": 3,
   "id": "56200c2a-bc19-4da9-b247-f9ffda79dc86",
   "metadata": {},
   "outputs": [
    {
     "name": "stdout",
     "output_type": "stream",
     "text": [
      "sqlalchemy version = 2.0.31\n",
      "current dir = /User/tmp1\n",
      "parent dir = /User/tmp1/../..\n",
      "Python version: 3.11.13 | packaged by conda-forge | (main, Jun  4 2025, 14:48:23) [GCC 13.3.0]\n",
      "sys.path: ['/User/tmp1/../..', '/User/tmp1/..', '/User/tmp1', '/spark/python/lib/py4j-0.10.9.5-src.zip', '/spark/python/lib/pyspark.zip', '/igz/java/libs/v3io-pyspark-e50e673f1af73b42bda987e8f93b9b6e1-rocky8.zip', '/User/.conda/envs/py311/lib/python311.zip', '/User/.conda/envs/py311/lib/python3.11', '/User/.conda/envs/py311/lib/python3.11/lib-dynload', '', '/User/.conda/envs/py311/lib/python3.11/site-packages', '/User/.conda/envs/py311/lib/python3.11/site-packages/setuptools/_vendor']\n",
      "PYTHONPATH (from environment): /spark/python/lib/py4j-0.10.9.5-src.zip:/spark/python/lib/pyspark.zip:/igz/java/libs/v3io-pyspark-e50e673f1af73b42bda987e8f93b9b6e1-rocky8.zip\n",
      "default_image_name before = .mlrun-project-image-kfp-with-mlrun-image-kfp\n",
      "default_image = .mlrun-project-image-kfp-with-mlrun-image-kfp\n",
      "Project Source: git://github.com/xsqian/slim-call-center.git#main\n",
      "outside default_image = .mlrun-project-image-kfp-with-mlrun-image-kfp\n",
      "indise default_image = .mlrun-project-image-kfp-with-mlrun-image-kfp\n",
      "Building default image for the debug:\n",
      "> 2025-07-06 20:43:13,394 [info] Started building image: .mlrun-project-image-kfp-with-mlrun-image-kfp\n",
      "\u001b[36mINFO\u001b[0m[0000] Retrieving image manifest mlrun/mlrun-kfp:1.9.1 \n",
      "\u001b[36mINFO\u001b[0m[0000] Retrieving image mlrun/mlrun-kfp:1.9.1 from registry index.docker.io \n",
      "\u001b[36mINFO\u001b[0m[0000] Built cross stage deps: map[]                \n",
      "\u001b[36mINFO\u001b[0m[0000] Retrieving image manifest mlrun/mlrun-kfp:1.9.1 \n",
      "\u001b[36mINFO\u001b[0m[0000] Returning cached image manifest              \n",
      "\u001b[36mINFO\u001b[0m[0000] Executing 0 build triggers                   \n",
      "\u001b[36mINFO\u001b[0m[0000] Building stage 'mlrun/mlrun-kfp:1.9.1' [idx: '0', base-idx: '-1'] \n",
      "\u001b[36mINFO\u001b[0m[0000] Unpacking rootfs as cmd RUN echo \"BEFORE BEFORE get the image and print out the python version\" requires it. \n",
      "\u001b[36mINFO\u001b[0m[0024] ARG Key=Value                                \n",
      "\u001b[36mINFO\u001b[0m[0024] RUN echo \"BEFORE BEFORE get the image and print out the python version\" \n",
      "\u001b[36mINFO\u001b[0m[0024] Initializing snapshotter ...                 \n",
      "\u001b[36mINFO\u001b[0m[0024] Taking snapshot of full filesystem...        \n",
      "\u001b[36mINFO\u001b[0m[0044] Cmd: /bin/sh                                 \n",
      "\u001b[36mINFO\u001b[0m[0044] Args: [-c echo \"BEFORE BEFORE get the image and print out the python version\"] \n",
      "\u001b[36mINFO\u001b[0m[0044] Running: [/bin/sh -c echo \"BEFORE BEFORE get the image and print out the python version\"] \n",
      "BEFORE BEFORE get the image and print out the python version\n",
      "\u001b[36mINFO\u001b[0m[0044] Taking snapshot of full filesystem...        \n",
      "\u001b[36mINFO\u001b[0m[0047] No files were changed, appending empty layer to config. No layer added to image. \n",
      "\u001b[36mINFO\u001b[0m[0047] RUN python --version                         \n",
      "\u001b[36mINFO\u001b[0m[0047] Cmd: /bin/sh                                 \n",
      "\u001b[36mINFO\u001b[0m[0047] Args: [-c python --version]                  \n",
      "\u001b[36mINFO\u001b[0m[0047] Running: [/bin/sh -c python --version]       \n",
      "Python 3.9.23\n",
      "\u001b[36mINFO\u001b[0m[0047] Taking snapshot of full filesystem...        \n",
      "\u001b[36mINFO\u001b[0m[0050] No files were changed, appending empty layer to config. No layer added to image. \n",
      "\u001b[36mINFO\u001b[0m[0050] RUN pip install SQLAlchemy==2.0.31           \n",
      "\u001b[36mINFO\u001b[0m[0050] Cmd: /bin/sh                                 \n",
      "\u001b[36mINFO\u001b[0m[0050] Args: [-c pip install SQLAlchemy==2.0.31]    \n",
      "\u001b[36mINFO\u001b[0m[0050] Running: [/bin/sh -c pip install SQLAlchemy==2.0.31] \n",
      "Collecting SQLAlchemy==2.0.31\n",
      "  Downloading SQLAlchemy-2.0.31-cp39-cp39-manylinux_2_17_x86_64.manylinux2014_x86_64.whl.metadata (9.6 kB)\n",
      "Requirement already satisfied: typing-extensions>=4.6.0 in /usr/local/lib/python3.9/site-packages (from SQLAlchemy==2.0.31) (4.14.0)\n",
      "Requirement already satisfied: greenlet!=0.4.17 in /usr/local/lib/python3.9/site-packages (from SQLAlchemy==2.0.31) (3.2.3)\n",
      "Downloading SQLAlchemy-2.0.31-cp39-cp39-manylinux_2_17_x86_64.manylinux2014_x86_64.whl (3.1 MB)\n",
      "   ━━━━━━━━━━━━━━━━━━━━━━━━━━━━━━━━━━━━━━━━ 3.1/3.1 MB 71.6 MB/s eta 0:00:00\n",
      "Installing collected packages: SQLAlchemy\n",
      "  Attempting uninstall: SQLAlchemy\n",
      "    Found existing installation: SQLAlchemy 1.4.54\n",
      "    Uninstalling SQLAlchemy-1.4.54:\n",
      "      Successfully uninstalled SQLAlchemy-1.4.54\n",
      "Successfully installed SQLAlchemy-2.0.31\n",
      "WARNING: Running pip as the 'root' user can result in broken permissions and conflicting behaviour with the system package manager, possibly rendering your system unusable. It is recommended to use a virtual environment instead: https://pip.pypa.io/warnings/venv. Use the --root-user-action option if you know what you are doing and want to suppress this warning.\n",
      "\n",
      "[notice] A new release of pip is available: 25.0.1 -> 25.1.1\n",
      "[notice] To update, run: pip install --upgrade pip\n",
      "\u001b[36mINFO\u001b[0m[0053] Taking snapshot of full filesystem...        \n",
      "\u001b[36mINFO\u001b[0m[0057] RUN pip show sqlalchemy                      \n",
      "\u001b[36mINFO\u001b[0m[0057] Cmd: /bin/sh                                 \n",
      "\u001b[36mINFO\u001b[0m[0057] Args: [-c pip show sqlalchemy]               \n",
      "\u001b[36mINFO\u001b[0m[0057] Running: [/bin/sh -c pip show sqlalchemy]    \n",
      "Name: SQLAlchemy\n",
      "Version: 2.0.31\n",
      "Summary: Database Abstraction Library\n",
      "Home-page: https://www.sqlalchemy.org\n",
      "Author: Mike Bayer\n",
      "Author-email: mike_mp@zzzcomputing.com\n",
      "License: MIT\n",
      "Location: /usr/local/lib/python3.9/site-packages\n",
      "Requires: greenlet, typing-extensions\n",
      "Required-by: alembic, mlflow\n",
      "\u001b[36mINFO\u001b[0m[0058] Taking snapshot of full filesystem...        \n",
      "\u001b[36mINFO\u001b[0m[0061] No files were changed, appending empty layer to config. No layer added to image. \n",
      "\u001b[36mINFO\u001b[0m[0061] RUN pip show requests_toolbelt               \n",
      "\u001b[36mINFO\u001b[0m[0061] Cmd: /bin/sh                                 \n",
      "\u001b[36mINFO\u001b[0m[0061] Args: [-c pip show requests_toolbelt]        \n",
      "\u001b[36mINFO\u001b[0m[0061] Running: [/bin/sh -c pip show requests_toolbelt] \n",
      "Name: requests-toolbelt\n",
      "Version: 0.10.1\n",
      "Summary: A utility belt for advanced users of python-requests\n",
      "Home-page: https://toolbelt.readthedocs.io/\n",
      "Author: Ian Cordasco, Cory Benfield\n",
      "Author-email: graffatcolmingov@gmail.com\n",
      "License: Apache 2.0\n",
      "Location: /usr/local/lib/python3.9/site-packages\n",
      "Requires: requests\n",
      "Required-by: kfp\n",
      "\u001b[36mINFO\u001b[0m[0062] Taking snapshot of full filesystem...        \n",
      "\u001b[36mINFO\u001b[0m[0066] No files were changed, appending empty layer to config. No layer added to image. \n",
      "\u001b[36mINFO\u001b[0m[0066] RUN echo \"AFTER AFTER an installation and print out the python version\" \n",
      "\u001b[36mINFO\u001b[0m[0066] Cmd: /bin/sh                                 \n",
      "\u001b[36mINFO\u001b[0m[0066] Args: [-c echo \"AFTER AFTER an installation and print out the python version\"] \n",
      "\u001b[36mINFO\u001b[0m[0066] Running: [/bin/sh -c echo \"AFTER AFTER an installation and print out the python version\"] \n",
      "AFTER AFTER an installation and print out the python version\n",
      "\u001b[36mINFO\u001b[0m[0066] Taking snapshot of full filesystem...        \n",
      "\u001b[36mINFO\u001b[0m[0069] No files were changed, appending empty layer to config. No layer added to image. \n",
      "\u001b[36mINFO\u001b[0m[0069] RUN python --version                         \n",
      "\u001b[36mINFO\u001b[0m[0069] Cmd: /bin/sh                                 \n",
      "\u001b[36mINFO\u001b[0m[0069] Args: [-c python --version]                  \n",
      "\u001b[36mINFO\u001b[0m[0069] Running: [/bin/sh -c python --version]       \n",
      "Python 3.9.23\n",
      "\u001b[36mINFO\u001b[0m[0069] Taking snapshot of full filesystem...        \n",
      "\u001b[36mINFO\u001b[0m[0072] No files were changed, appending empty layer to config. No layer added to image. \n",
      "\u001b[36mINFO\u001b[0m[0072] Pushing image to docker-registry.default-tenant.app.cst-360.iguazio-cd0.com/mlrun-project-image-kfp-with-mlrun-image-kfp \n",
      "\u001b[36mINFO\u001b[0m[0072] Pushed docker-registry.default-tenant.app.cst-360.iguazio-cd0.com/mlrun-project-image-kfp-with-mlrun-image-kfp@sha256:34ed73929468809af5d4a8d390dd677f9f276faf4a3b949c217e60c1f47ca67e \n",
      "> 2025-07-06 20:44:31,169 [info] Function is being deleted: {\"function_name\":\"mlrun--project--image--builder\",\"project_name\":\"default\"}\n",
      "> 2025-07-06 20:44:31,190 [info] Function deleted: {\"function_name\":\"mlrun--project--image--builder\",\"project_name\":\"default\"}\n",
      "build result = BuildStatus(ready=True, outputs={'image': '.mlrun-project-image-kfp-with-mlrun-image-kfp'})\n",
      "default_image_name after = .mlrun-project-image-kfp-with-mlrun-image-kfp\n",
      "> 2025-07-06 20:44:31,793 [info] Project loaded successfully: {\"project_name\":\"kfp-with-mlrun-image-kfp-xingsheng\"}\n"
     ]
    },
    {
     "data": {
      "text/plain": [
       "<mlrun.projects.project.MlrunProject at 0x7faf5ccf8e50>"
      ]
     },
     "execution_count": 3,
     "metadata": {},
     "output_type": "execute_result"
    }
   ],
   "source": [
    "project_name = \"kfp-with-mlrun-image-kfp\"\n",
    "\n",
    "project = mlrun.get_or_create_project(\n",
    "    name=project_name,\n",
    "    user_project=True,\n",
    "    parameters={\n",
    "        \"build_image\": True,\n",
    "        \"source\": \"git://github.com/xsqian/slim-call-center.git#main\",\n",
    "        \"default_image_name\": f'.mlrun-project-image-{project_name}',\n",
    "        \"default_image\": '.mlrun-project-image-kfp-with-mlrun-image-kfp',\n",
    "    },\n",
    ")\n",
    "project.save()"
   ]
  },
  {
   "cell_type": "code",
   "execution_count": 4,
   "id": "d0c13c83-cdeb-43ab-90aa-3fdb5020021a",
   "metadata": {},
   "outputs": [
    {
     "name": "stdout",
     "output_type": "stream",
     "text": [
      "> 2025-07-06 22:33:45,209 [info] Submitting remote workflow: {\"project_name\":\"kfp-with-mlrun-image-kfp-xingsheng\",\"schedule\":null,\"workflow_engine\":\"kfp\"}\n",
      "> 2025-07-06 22:34:25,709 [info] Started run workflow kfp-with-mlrun-image-kfp-xingsheng-dummy with run id = 'a8228e6b-68b3-4374-9b59-8ada2b52e69b' by remote engine\n",
      "> 2025-07-06 22:34:25,709 [info] Waiting for pipeline run completion: {\"project\":\"kfp-with-mlrun-image-kfp-xingsheng\",\"run_id\":\"a8228e6b-68b3-4374-9b59-8ada2b52e69b\"}\n"
     ]
    },
    {
     "data": {
      "text/html": [
       "<div id=\"341535ce183d40368dc91440448a9a4f\">Temporary Display Content</div>"
      ],
      "text/plain": [
       "<IPython.core.display.HTML object>"
      ]
     },
     "metadata": {},
     "output_type": "display_data"
    },
    {
     "data": {
      "text/html": [
       "<h2>Run Results</h2><h3>[info] Workflow a8228e6b-68b3-4374-9b59-8ada2b52e69b finished, state=Succeeded</h3><br>click the hyper links below to see detailed results<br><table border=\"1\" class=\"dataframe\">\n",
       "  <thead>\n",
       "    <tr style=\"text-align: right;\">\n",
       "      <th>uid</th>\n",
       "      <th>start</th>\n",
       "      <th>end</th>\n",
       "      <th>state</th>\n",
       "      <th>kind</th>\n",
       "      <th>name</th>\n",
       "      <th>parameters</th>\n",
       "      <th>results</th>\n",
       "    </tr>\n",
       "  </thead>\n",
       "  <tbody>\n",
       "    <tr>\n",
       "      <td><div title=\"0dea85ef498948e3acc633b20d8c82b9\"><a href=\"https://dashboard.default-tenant.app.cst-360.iguazio-cd0.com/mlprojects/kfp-with-mlrun-image-kfp-xingsheng/jobs/monitor-jobs/printdummy/0dea85ef498948e3acc633b20d8c82b9/overview\" target=\"_blank\" >...0d8c82b9</a></div></td>\n",
       "      <td>Jul 06 22:35:18</td>\n",
       "      <td>2025-07-06 22:35:29.351905+00:00</td>\n",
       "      <td>completed</td>\n",
       "      <td>run</td>\n",
       "      <td>printdummy</td>\n",
       "      <td></td>\n",
       "      <td></td>\n",
       "    </tr>\n",
       "    <tr>\n",
       "      <td><div title=\"1900ae651eb04478b1d23031cc9c96b0\"><a href=\"https://dashboard.default-tenant.app.cst-360.iguazio-cd0.com/mlprojects/kfp-with-mlrun-image-kfp-xingsheng/jobs/monitor-jobs/another-dummy/1900ae651eb04478b1d23031cc9c96b0/overview\" target=\"_blank\" >...cc9c96b0</a></div></td>\n",
       "      <td>Jul 06 22:35:18</td>\n",
       "      <td>2025-07-06 22:35:19.430358+00:00</td>\n",
       "      <td>completed</td>\n",
       "      <td>run</td>\n",
       "      <td>another-dummy</td>\n",
       "      <td></td>\n",
       "      <td></td>\n",
       "    </tr>\n",
       "  </tbody>\n",
       "</table>"
      ],
      "text/plain": [
       "<IPython.core.display.HTML object>"
      ]
     },
     "metadata": {},
     "output_type": "display_data"
    },
    {
     "data": {
      "text/plain": [
       "a8228e6b-68b3-4374-9b59-8ada2b52e69b"
      ]
     },
     "execution_count": 4,
     "metadata": {},
     "output_type": "execute_result"
    }
   ],
   "source": [
    "project.run('dummy', dirty=True, watch=True, engine=\"remote\", timeout=60 * 60, arguments={\"build_image\": False,}) "
   ]
  },
  {
   "cell_type": "code",
   "execution_count": null,
   "id": "3fe855e1-0719-4449-9cf1-f26bd2890f32",
   "metadata": {},
   "outputs": [],
   "source": []
  },
  {
   "cell_type": "code",
   "execution_count": null,
   "id": "9e2a5459-0b62-4083-a679-2edc343410bd",
   "metadata": {},
   "outputs": [],
   "source": []
  }
 ],
 "metadata": {
  "kernelspec": {
   "display_name": "py311",
   "language": "python",
   "name": "conda-env-.conda-py311-py"
  },
  "language_info": {
   "codemirror_mode": {
    "name": "ipython",
    "version": 3
   },
   "file_extension": ".py",
   "mimetype": "text/x-python",
   "name": "python",
   "nbconvert_exporter": "python",
   "pygments_lexer": "ipython3",
   "version": "3.11.13"
  }
 },
 "nbformat": 4,
 "nbformat_minor": 5
}
