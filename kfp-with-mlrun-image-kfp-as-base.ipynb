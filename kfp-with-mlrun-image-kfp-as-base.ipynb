{
 "cells": [
  {
   "cell_type": "markdown",
   "id": "e7ae5205-27c9-4d80-9430-45af76525578",
   "metadata": {},
   "source": [
    "Here is the env:\n",
    "- python 3.11\n",
    "- mlrun 1.9.1"
   ]
  },
  {
   "cell_type": "code",
   "execution_count": 1,
   "id": "e3f63b33-b7a4-4c01-8d4c-58eb7f0bdbbd",
   "metadata": {},
   "outputs": [
    {
     "name": "stdout",
     "output_type": "stream",
     "text": [
      "1.9.1\n"
     ]
    }
   ],
   "source": [
    "import mlrun\n",
    "print(mlrun.__version__)"
   ]
  },
  {
   "cell_type": "markdown",
   "id": "9b5033c2-5777-4915-a68d-4e797fef53c0",
   "metadata": {},
   "source": [
    "### chnage \"build_image\": True, once to build the default image for the project"
   ]
  },
  {
   "cell_type": "code",
   "execution_count": 4,
   "id": "56200c2a-bc19-4da9-b247-f9ffda79dc86",
   "metadata": {},
   "outputs": [
    {
     "name": "stdout",
     "output_type": "stream",
     "text": [
      "get_param source = git://github.com/xsqian/slim-call-center.git#main\n",
      "get_param default_image = .mlrun-project-image-kfp-with-mlrun-image-kfp\n",
      "get_param build_image = False\n",
      "Project Source: git://github.com/xsqian/slim-call-center.git#main\n",
      "outside default_image = .mlrun-project-image-kfp-with-mlrun-image-kfp\n",
      "indise default_image = .mlrun-project-image-kfp-with-mlrun-image-kfp\n",
      "default_image after = .mlrun-project-image-kfp-with-mlrun-image-kfp\n",
      "> 2025-07-07 21:34:42,936 [info] Project loaded successfully: {\"project_name\":\"kfp-with-mlrun-image-kfp-xingsheng\"}\n"
     ]
    },
    {
     "data": {
      "text/plain": [
       "<mlrun.projects.project.MlrunProject at 0x7f4acc92a3d0>"
      ]
     },
     "execution_count": 4,
     "metadata": {},
     "output_type": "execute_result"
    }
   ],
   "source": [
    "project_name = \"kfp-with-mlrun-image-kfp\"\n",
    "\n",
    "project = mlrun.get_or_create_project(\n",
    "    name=project_name,\n",
    "    user_project=True,\n",
    "    parameters={\n",
    "        \"build_image\": False,\n",
    "        \"source\": \"git://github.com/xsqian/slim-call-center.git#dan\",\n",
    "        \"default_image\": f'.mlrun-project-image-{project_name}',\n",
    "    },\n",
    ")\n",
    "project.save()"
   ]
  },
  {
   "cell_type": "code",
   "execution_count": 5,
   "id": "d0c13c83-cdeb-43ab-90aa-3fdb5020021a",
   "metadata": {},
   "outputs": [
    {
     "name": "stdout",
     "output_type": "stream",
     "text": [
      "> 2025-07-07 21:34:51,239 [info] Submitting remote workflow: {\"project_name\":\"kfp-with-mlrun-image-kfp-xingsheng\",\"schedule\":null,\"workflow_engine\":\"kfp\"}\n",
      "> 2025-07-07 21:35:07,899 [info] Started run workflow kfp-with-mlrun-image-kfp-xingsheng-dummy with run id = '367a204f-d389-41d5-b4e7-9dceeab6ed65' by remote engine\n",
      "> 2025-07-07 21:35:07,900 [info] Waiting for pipeline run completion: {\"project\":\"kfp-with-mlrun-image-kfp-xingsheng\",\"run_id\":\"367a204f-d389-41d5-b4e7-9dceeab6ed65\"}\n"
     ]
    },
    {
     "data": {
      "text/html": [
       "<div id=\"d89d9ffa77c5412fb9eebab14ad2434e\">Temporary Display Content</div>"
      ],
      "text/plain": [
       "<IPython.core.display.HTML object>"
      ]
     },
     "metadata": {},
     "output_type": "display_data"
    },
    {
     "data": {
      "text/html": [
       "<h2>Run Results</h2><h3>[info] Workflow 367a204f-d389-41d5-b4e7-9dceeab6ed65 finished, state=Succeeded</h3><br>click the hyper links below to see detailed results<br><table border=\"1\" class=\"dataframe\">\n",
       "  <thead>\n",
       "    <tr style=\"text-align: right;\">\n",
       "      <th>uid</th>\n",
       "      <th>start</th>\n",
       "      <th>end</th>\n",
       "      <th>state</th>\n",
       "      <th>kind</th>\n",
       "      <th>name</th>\n",
       "      <th>parameters</th>\n",
       "      <th>results</th>\n",
       "    </tr>\n",
       "  </thead>\n",
       "  <tbody>\n",
       "    <tr>\n",
       "      <td><div title=\"513e13d248244f678d48fff4c764e369\"><a href=\"https://dashboard.default-tenant.app.cst-360.iguazio-cd0.com/mlprojects/kfp-with-mlrun-image-kfp-xingsheng/jobs/monitor-jobs/printdummy/513e13d248244f678d48fff4c764e369/overview\" target=\"_blank\" >...c764e369</a></div></td>\n",
       "      <td>Jul 07 21:35:16</td>\n",
       "      <td>2025-07-07 21:35:27.400567+00:00</td>\n",
       "      <td>completed</td>\n",
       "      <td>run</td>\n",
       "      <td>printdummy</td>\n",
       "      <td></td>\n",
       "      <td></td>\n",
       "    </tr>\n",
       "    <tr>\n",
       "      <td><div title=\"92923ccb56524a4d9b13cebc8d26d73a\"><a href=\"https://dashboard.default-tenant.app.cst-360.iguazio-cd0.com/mlprojects/kfp-with-mlrun-image-kfp-xingsheng/jobs/monitor-jobs/another-dummy/92923ccb56524a4d9b13cebc8d26d73a/overview\" target=\"_blank\" >...8d26d73a</a></div></td>\n",
       "      <td>Jul 07 21:35:16</td>\n",
       "      <td>2025-07-07 21:35:17.489420+00:00</td>\n",
       "      <td>completed</td>\n",
       "      <td>run</td>\n",
       "      <td>another-dummy</td>\n",
       "      <td></td>\n",
       "      <td></td>\n",
       "    </tr>\n",
       "  </tbody>\n",
       "</table>"
      ],
      "text/plain": [
       "<IPython.core.display.HTML object>"
      ]
     },
     "metadata": {},
     "output_type": "display_data"
    },
    {
     "data": {
      "text/plain": [
       "367a204f-d389-41d5-b4e7-9dceeab6ed65"
      ]
     },
     "execution_count": 5,
     "metadata": {},
     "output_type": "execute_result"
    }
   ],
   "source": [
    "project.run('dummy', dirty=True, watch=True, engine=\"remote\", timeout=60 * 60, arguments={\"build_image\": False,}) "
   ]
  },
  {
   "cell_type": "code",
   "execution_count": null,
   "id": "9e2a5459-0b62-4083-a679-2edc343410bd",
   "metadata": {},
   "outputs": [],
   "source": []
  }
 ],
 "metadata": {
  "kernelspec": {
   "display_name": "py311",
   "language": "python",
   "name": "conda-env-.conda-py311-py"
  },
  "language_info": {
   "codemirror_mode": {
    "name": "ipython",
    "version": 3
   },
   "file_extension": ".py",
   "mimetype": "text/x-python",
   "name": "python",
   "nbconvert_exporter": "python",
   "pygments_lexer": "ipython3",
   "version": "3.11.13"
  }
 },
 "nbformat": 4,
 "nbformat_minor": 5
}
