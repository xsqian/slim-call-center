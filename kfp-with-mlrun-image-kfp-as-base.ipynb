{
 "cells": [
  {
   "cell_type": "markdown",
   "id": "e7ae5205-27c9-4d80-9430-45af76525578",
   "metadata": {},
   "source": [
    "Here is the env:\n",
    "- python 3.11\n",
    "- mlrun 1.9.1"
   ]
  },
  {
   "cell_type": "code",
   "execution_count": 1,
   "id": "e3f63b33-b7a4-4c01-8d4c-58eb7f0bdbbd",
   "metadata": {},
   "outputs": [
    {
     "name": "stdout",
     "output_type": "stream",
     "text": [
      "1.9.1\n"
     ]
    }
   ],
   "source": [
    "import mlrun\n",
    "print(mlrun.__version__)"
   ]
  },
  {
   "cell_type": "markdown",
   "id": "9b5033c2-5777-4915-a68d-4e797fef53c0",
   "metadata": {},
   "source": [
    "### chnage \"build_image\": True, once to build the default image for the project"
   ]
  },
  {
   "cell_type": "code",
   "execution_count": 2,
   "id": "56200c2a-bc19-4da9-b247-f9ffda79dc86",
   "metadata": {},
   "outputs": [
    {
     "ename": "SyntaxError",
     "evalue": "unterminated string literal (detected at line 227) (project_setup.py, line 227)",
     "output_type": "error",
     "traceback": [
      "Traceback \u001b[0;36m(most recent call last)\u001b[0m:\n",
      "\u001b[0m  File \u001b[1;32m~/.conda/envs/py311/lib/python3.11/site-packages/IPython/core/interactiveshell.py:3460\u001b[0m in \u001b[1;35mrun_code\u001b[0m\n    exec(code_obj, self.user_global_ns, self.user_ns)\u001b[0m\n",
      "\u001b[0m  Cell \u001b[1;32mIn[2], line 3\u001b[0m\n    project = mlrun.get_or_create_project(\u001b[0m\n",
      "\u001b[0m  File \u001b[1;32m~/.conda/envs/py311/lib/python3.11/site-packages/mlrun/projects/project.py:526\u001b[0m in \u001b[1;35mget_or_create_project\u001b[0m\n    project = load_project(\u001b[0m\n",
      "\u001b[0m  File \u001b[1;32m~/.conda/envs/py311/lib/python3.11/site-packages/mlrun/projects/project.py:446\u001b[0m in \u001b[1;35mload_project\u001b[0m\n    project = project.setup(to_save)\u001b[0m\n",
      "\u001b[0m  File \u001b[1;32m~/.conda/envs/py311/lib/python3.11/site-packages/mlrun/projects/project.py:2132\u001b[0m in \u001b[1;35msetup\u001b[0m\n    return _run_project_setup(self, setup_file_path, save)\u001b[0m\n",
      "\u001b[0m  File \u001b[1;32m~/.conda/envs/py311/lib/python3.11/site-packages/mlrun/projects/project.py:627\u001b[0m in \u001b[1;35m_run_project_setup\u001b[0m\n    spec.loader.exec_module(mod)\u001b[0m\n",
      "\u001b[0m  File \u001b[1;32m<frozen importlib._bootstrap_external>:936\u001b[0m in \u001b[1;35mexec_module\u001b[0m\n",
      "\u001b[0m  File \u001b[1;32m<frozen importlib._bootstrap_external>:1074\u001b[0m in \u001b[1;35mget_code\u001b[0m\n",
      "\u001b[0m  File \u001b[1;32m<frozen importlib._bootstrap_external>:1004\u001b[0m in \u001b[1;35msource_to_code\u001b[0m\n",
      "\u001b[0;36m  File \u001b[0;32m<frozen importlib._bootstrap>:241\u001b[0;36m in \u001b[0;35m_call_with_frames_removed\u001b[0;36m\n",
      "\u001b[0;36m  File \u001b[0;32m~/tmp1/./project_setup.py:227\u001b[0;36m\u001b[0m\n\u001b[0;31m    commands=['pip install SQLAlchemy==2.0.31 \\\u001b[0m\n\u001b[0m              ^\u001b[0m\n\u001b[0;31mSyntaxError\u001b[0m\u001b[0;31m:\u001b[0m unterminated string literal (detected at line 227)\n"
     ]
    }
   ],
   "source": [
    "project_name = \"kfp-with-mlrun-image-kfp\"\n",
    "\n",
    "project = mlrun.get_or_create_project(\n",
    "    name=project_name,\n",
    "    user_project=True,\n",
    "    parameters={\n",
    "        \"build_image\": True,\n",
    "        \"source\": \"git://github.com/xsqian/slim-call-center.git#dan\",\n",
    "        \"default_image\": f'.mlrun-project-image-{project_name}',\n",
    "    },\n",
    ")\n",
    "project.save()"
   ]
  },
  {
   "cell_type": "code",
   "execution_count": null,
   "id": "d0c13c83-cdeb-43ab-90aa-3fdb5020021a",
   "metadata": {},
   "outputs": [],
   "source": [
    "project.run('dummy', dirty=True, watch=True, engine=\"remote\", timeout=60 * 60, arguments={\"build_image\": False,}) "
   ]
  },
  {
   "cell_type": "code",
   "execution_count": null,
   "id": "9e2a5459-0b62-4083-a679-2edc343410bd",
   "metadata": {},
   "outputs": [],
   "source": []
  },
  {
   "cell_type": "code",
   "execution_count": null,
   "id": "2e58f37d-c1f2-43b6-84f5-f13b53879b57",
   "metadata": {},
   "outputs": [],
   "source": []
  }
 ],
 "metadata": {
  "kernelspec": {
   "display_name": "py311",
   "language": "python",
   "name": "conda-env-.conda-py311-py"
  },
  "language_info": {
   "codemirror_mode": {
    "name": "ipython",
    "version": 3
   },
   "file_extension": ".py",
   "mimetype": "text/x-python",
   "name": "python",
   "nbconvert_exporter": "python",
   "pygments_lexer": "ipython3",
   "version": "3.11.13"
  }
 },
 "nbformat": 4,
 "nbformat_minor": 5
}
