{
 "cells": [
  {
   "cell_type": "markdown",
   "id": "e7ae5205-27c9-4d80-9430-45af76525578",
   "metadata": {},
   "source": [
    "Here is the env:\n",
    "- python 3.11\n",
    "- mlrun 1.9.1"
   ]
  },
  {
   "cell_type": "code",
   "execution_count": 4,
   "id": "e3f63b33-b7a4-4c01-8d4c-58eb7f0bdbbd",
   "metadata": {},
   "outputs": [
    {
     "name": "stdout",
     "output_type": "stream",
     "text": [
      "1.9.1\n"
     ]
    }
   ],
   "source": [
    "import mlrun\n",
    "print(mlrun.__version__)"
   ]
  },
  {
   "cell_type": "markdown",
   "id": "9b5033c2-5777-4915-a68d-4e797fef53c0",
   "metadata": {},
   "source": [
    "### chnage \"build_image\": True, once to build the default image for the project"
   ]
  },
  {
   "cell_type": "code",
   "execution_count": 5,
   "id": "56200c2a-bc19-4da9-b247-f9ffda79dc86",
   "metadata": {},
   "outputs": [
    {
     "name": "stdout",
     "output_type": "stream",
     "text": [
      "get_param source = git://github.com/xsqian/slim-call-center.git#dan\n",
      "get_param default_image = .mlrun-project-image-kfp-with-mlrun-image-kfp\n",
      "get_param build_image = False\n",
      "Project Source: git://github.com/xsqian/slim-call-center.git#dan\n",
      "outside default_image = .mlrun-project-image-kfp-with-mlrun-image-kfp\n",
      "indise default_image = .mlrun-project-image-kfp-with-mlrun-image-kfp\n",
      "default_image after = .mlrun-project-image-kfp-with-mlrun-image-kfp\n",
      "> 2025-07-07 22:41:20,604 [info] Started building image: .slim-demo-call-center-kfp\n",
      "Enumerating objects: 141, done.\n",
      "Counting objects: 100% (141/141), done.\n",
      "Compressing objects: 100% (86/86), done.\n",
      "Total 141 (delta 67), reused 121 (delta 47), pack-reused 0 (from 0)\n",
      "\u001b[36mINFO\u001b[0m[0000] Retrieving image manifest mlrun/mlrun-kfp:1.9.1 \n",
      "\u001b[36mINFO\u001b[0m[0000] Retrieving image mlrun/mlrun-kfp:1.9.1 from registry index.docker.io \n",
      "\u001b[36mINFO\u001b[0m[0000] Built cross stage deps: map[]                \n",
      "\u001b[36mINFO\u001b[0m[0000] Retrieving image manifest mlrun/mlrun-kfp:1.9.1 \n",
      "\u001b[36mINFO\u001b[0m[0000] Returning cached image manifest              \n",
      "\u001b[36mINFO\u001b[0m[0000] Executing 0 build triggers                   \n",
      "\u001b[36mINFO\u001b[0m[0000] Building stage 'mlrun/mlrun-kfp:1.9.1' [idx: '0', base-idx: '-1'] \n",
      "\u001b[36mINFO\u001b[0m[0000] Unpacking rootfs as cmd ADD . /home/mlrun_code/ requires it. \n",
      "\u001b[36mINFO\u001b[0m[0025] ARG Key=Value                                \n",
      "\u001b[36mINFO\u001b[0m[0025] Using files from context: [/kaniko/buildcontext] \n",
      "\u001b[36mINFO\u001b[0m[0025] ADD . /home/mlrun_code/                      \n",
      "\u001b[36mINFO\u001b[0m[0025] Taking snapshot of files...                  \n",
      "\u001b[36mINFO\u001b[0m[0025] ENV PYTHONPATH /home/mlrun_code/             \n",
      "\u001b[36mINFO\u001b[0m[0025] RUN pip install SQLAlchemy==2.0.31           \n",
      "\u001b[36mINFO\u001b[0m[0025] Initializing snapshotter ...                 \n",
      "\u001b[36mINFO\u001b[0m[0025] Taking snapshot of full filesystem...        \n",
      "\u001b[36mINFO\u001b[0m[0079] Cmd: /bin/sh                                 \n",
      "\u001b[36mINFO\u001b[0m[0079] Args: [-c pip install SQLAlchemy==2.0.31]    \n",
      "\u001b[36mINFO\u001b[0m[0079] Running: [/bin/sh -c pip install SQLAlchemy==2.0.31] \n",
      "Collecting SQLAlchemy==2.0.31\n",
      "  Downloading SQLAlchemy-2.0.31-cp39-cp39-manylinux_2_17_x86_64.manylinux2014_x86_64.whl.metadata (9.6 kB)\n",
      "Requirement already satisfied: typing-extensions>=4.6.0 in /usr/local/lib/python3.9/site-packages (from SQLAlchemy==2.0.31) (4.14.0)\n",
      "Requirement already satisfied: greenlet!=0.4.17 in /usr/local/lib/python3.9/site-packages (from SQLAlchemy==2.0.31) (3.2.3)\n",
      "Downloading SQLAlchemy-2.0.31-cp39-cp39-manylinux_2_17_x86_64.manylinux2014_x86_64.whl (3.1 MB)\n",
      "   ━━━━━━━━━━━━━━━━━━━━━━━━━━━━━━━━━━━━━━━━ 3.1/3.1 MB 18.4 MB/s eta 0:00:00\n",
      "Installing collected packages: SQLAlchemy\n",
      "  Attempting uninstall: SQLAlchemy\n",
      "    Found existing installation: SQLAlchemy 1.4.54\n",
      "    Uninstalling SQLAlchemy-1.4.54:\n",
      "      Successfully uninstalled SQLAlchemy-1.4.54\n",
      "Successfully installed SQLAlchemy-2.0.31\n",
      "WARNING: Running pip as the 'root' user can result in broken permissions and conflicting behaviour with the system package manager, possibly rendering your system unusable. It is recommended to use a virtual environment instead: https://pip.pypa.io/warnings/venv. Use the --root-user-action option if you know what you are doing and want to suppress this warning.\n",
      "\n",
      "[notice] A new release of pip is available: 25.0.1 -> 25.1.1\n",
      "[notice] To update, run: pip install --upgrade pip\n",
      "\u001b[36mINFO\u001b[0m[0083] Taking snapshot of full filesystem...        \n",
      "\u001b[36mINFO\u001b[0m[0088] RUN echo \"\" > /empty/requirements.txt        \n",
      "\u001b[36mINFO\u001b[0m[0088] Cmd: /bin/sh                                 \n",
      "\u001b[36mINFO\u001b[0m[0088] Args: [-c echo \"\" > /empty/requirements.txt] \n",
      "\u001b[36mINFO\u001b[0m[0088] Running: [/bin/sh -c echo \"\" > /empty/requirements.txt] \n",
      "\u001b[36mINFO\u001b[0m[0088] Taking snapshot of full filesystem...        \n",
      "\u001b[36mINFO\u001b[0m[0091] No files were changed, appending empty layer to config. No layer added to image. \n",
      "\u001b[36mINFO\u001b[0m[0091] RUN rm -rf /home/mlrun-code/project_setup.py \n",
      "\u001b[36mINFO\u001b[0m[0091] Cmd: /bin/sh                                 \n",
      "\u001b[36mINFO\u001b[0m[0091] Args: [-c rm -rf /home/mlrun-code/project_setup.py] \n",
      "\u001b[36mINFO\u001b[0m[0091] Running: [/bin/sh -c rm -rf /home/mlrun-code/project_setup.py] \n",
      "\u001b[36mINFO\u001b[0m[0091] Taking snapshot of full filesystem...        \n",
      "\u001b[36mINFO\u001b[0m[0095] No files were changed, appending empty layer to config. No layer added to image. \n",
      "\u001b[36mINFO\u001b[0m[0095] Pushing image to docker-registry.default-tenant.app.cst-360.iguazio-cd0.com/slim-demo-call-center-kfp \n",
      "\u001b[36mINFO\u001b[0m[0095] Pushed docker-registry.default-tenant.app.cst-360.iguazio-cd0.com/slim-demo-call-center-kfp@sha256:34b9b6aee53945c9b908a083ee750114a7f7f8710acb0f82e584064abbb35212 \n",
      "> 2025-07-07 22:43:01,076 [info] Function is being deleted: {\"function_name\":\"mlrun--project--image--builder\",\"project_name\":\"kfp-with-mlrun-image-kfp-xingsheng\"}\n",
      "> 2025-07-07 22:43:04,131 [info] Function deleted: {\"function_name\":\"mlrun--project--image--builder\",\"project_name\":\"kfp-with-mlrun-image-kfp-xingsheng\"}\n",
      "> 2025-07-07 22:43:04,319 [info] Project loaded successfully: {\"project_name\":\"kfp-with-mlrun-image-kfp-xingsheng\"}\n"
     ]
    },
    {
     "data": {
      "text/plain": [
       "<mlrun.projects.project.MlrunProject at 0x7f63faf9ff90>"
      ]
     },
     "execution_count": 5,
     "metadata": {},
     "output_type": "execute_result"
    }
   ],
   "source": [
    "project_name = \"kfp-with-mlrun-image-kfp\"\n",
    "\n",
    "project = mlrun.get_or_create_project(\n",
    "    name=project_name,\n",
    "    user_project=True,\n",
    "    parameters={\n",
    "        \"build_image\": False,\n",
    "        \"source\": \"git://github.com/xsqian/slim-call-center.git#dan\",\n",
    "        \"default_image\": f'.mlrun-project-image-{project_name}',\n",
    "    },\n",
    ")\n",
    "project.save()"
   ]
  },
  {
   "cell_type": "code",
   "execution_count": null,
   "id": "d0c13c83-cdeb-43ab-90aa-3fdb5020021a",
   "metadata": {},
   "outputs": [
    {
     "name": "stdout",
     "output_type": "stream",
     "text": [
      "> 2025-07-07 23:04:36,347 [info] Submitting remote workflow: {\"project_name\":\"kfp-with-mlrun-image-kfp-xingsheng\",\"schedule\":null,\"workflow_engine\":\"kfp\"}\n"
     ]
    }
   ],
   "source": [
    "project.run('dummy', dirty=True, watch=True, engine=\"remote\", timeout=60 * 60, arguments={\"build_image\": False,}) "
   ]
  },
  {
   "cell_type": "code",
   "execution_count": null,
   "id": "9e2a5459-0b62-4083-a679-2edc343410bd",
   "metadata": {},
   "outputs": [],
   "source": []
  },
  {
   "cell_type": "code",
   "execution_count": null,
   "id": "2e58f37d-c1f2-43b6-84f5-f13b53879b57",
   "metadata": {},
   "outputs": [],
   "source": []
  }
 ],
 "metadata": {
  "kernelspec": {
   "display_name": "py311",
   "language": "python",
   "name": "conda-env-.conda-py311-py"
  },
  "language_info": {
   "codemirror_mode": {
    "name": "ipython",
    "version": 3
   },
   "file_extension": ".py",
   "mimetype": "text/x-python",
   "name": "python",
   "nbconvert_exporter": "python",
   "pygments_lexer": "ipython3",
   "version": "3.11.13"
  }
 },
 "nbformat": 4,
 "nbformat_minor": 5
}
