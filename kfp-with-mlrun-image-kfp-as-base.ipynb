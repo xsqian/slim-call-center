{
 "cells": [
  {
   "cell_type": "markdown",
   "id": "e7ae5205-27c9-4d80-9430-45af76525578",
   "metadata": {},
   "source": [
    "Here is the env:\n",
    "- python 3.11\n",
    "- mlrun 1.9.1"
   ]
  },
  {
   "cell_type": "code",
   "execution_count": 1,
   "id": "e3f63b33-b7a4-4c01-8d4c-58eb7f0bdbbd",
   "metadata": {},
   "outputs": [
    {
     "name": "stdout",
     "output_type": "stream",
     "text": [
      "1.9.1\n"
     ]
    }
   ],
   "source": [
    "import mlrun\n",
    "print(mlrun.__version__)"
   ]
  },
  {
   "cell_type": "markdown",
   "id": "9b5033c2-5777-4915-a68d-4e797fef53c0",
   "metadata": {},
   "source": [
    "### chnage \"build_image\": True, once to build the default image for the project"
   ]
  },
  {
   "cell_type": "code",
   "execution_count": 4,
   "id": "56200c2a-bc19-4da9-b247-f9ffda79dc86",
   "metadata": {},
   "outputs": [
    {
     "name": "stdout",
     "output_type": "stream",
     "text": [
      "get_param source = git://github.com/xsqian/slim-call-center.git#dan\n",
      "get_param default_image = .mlrun-project-image-kfp-with-mlrun-image-kfp\n",
      "get_param build_image = True\n",
      "Project Source: git://github.com/xsqian/slim-call-center.git#dan\n",
      "outside default_image = .mlrun-project-image-kfp-with-mlrun-image-kfp\n",
      "indise default_image = .mlrun-project-image-kfp-with-mlrun-image-kfp\n",
      "Building default image for the debug:\n",
      "> 2025-07-08 02:50:57,940 [error] Failed to run project_setup script: {\"exc\":\"name 'deafult_image' is not defined\",\"setup_file_path\":\"./project_setup.py\"}\n"
     ]
    },
    {
     "ename": "NameError",
     "evalue": "name 'deafult_image' is not defined",
     "output_type": "error",
     "traceback": [
      "\u001b[0;31m---------------------------------------------------------------------------\u001b[0m",
      "\u001b[0;31mNameError\u001b[0m                                 Traceback (most recent call last)",
      "Cell \u001b[0;32mIn[4], line 3\u001b[0m\n\u001b[1;32m      1\u001b[0m project_name \u001b[38;5;241m=\u001b[39m \u001b[38;5;124m\"\u001b[39m\u001b[38;5;124mkfp-with-mlrun-image-kfp\u001b[39m\u001b[38;5;124m\"\u001b[39m\n\u001b[0;32m----> 3\u001b[0m project \u001b[38;5;241m=\u001b[39m \u001b[43mmlrun\u001b[49m\u001b[38;5;241;43m.\u001b[39;49m\u001b[43mget_or_create_project\u001b[49m\u001b[43m(\u001b[49m\n\u001b[1;32m      4\u001b[0m \u001b[43m    \u001b[49m\u001b[43mname\u001b[49m\u001b[38;5;241;43m=\u001b[39;49m\u001b[43mproject_name\u001b[49m\u001b[43m,\u001b[49m\n\u001b[1;32m      5\u001b[0m \u001b[43m    \u001b[49m\u001b[43muser_project\u001b[49m\u001b[38;5;241;43m=\u001b[39;49m\u001b[38;5;28;43;01mTrue\u001b[39;49;00m\u001b[43m,\u001b[49m\n\u001b[1;32m      6\u001b[0m \u001b[43m    \u001b[49m\u001b[43mparameters\u001b[49m\u001b[38;5;241;43m=\u001b[39;49m\u001b[43m{\u001b[49m\n\u001b[1;32m      7\u001b[0m \u001b[43m        \u001b[49m\u001b[38;5;124;43m\"\u001b[39;49m\u001b[38;5;124;43mbuild_image\u001b[39;49m\u001b[38;5;124;43m\"\u001b[39;49m\u001b[43m:\u001b[49m\u001b[43m \u001b[49m\u001b[38;5;28;43;01mTrue\u001b[39;49;00m\u001b[43m,\u001b[49m\n\u001b[1;32m      8\u001b[0m \u001b[43m        \u001b[49m\u001b[38;5;124;43m\"\u001b[39;49m\u001b[38;5;124;43msource\u001b[39;49m\u001b[38;5;124;43m\"\u001b[39;49m\u001b[43m:\u001b[49m\u001b[43m \u001b[49m\u001b[38;5;124;43m\"\u001b[39;49m\u001b[38;5;124;43mgit://github.com/xsqian/slim-call-center.git#dan\u001b[39;49m\u001b[38;5;124;43m\"\u001b[39;49m\u001b[43m,\u001b[49m\n\u001b[1;32m      9\u001b[0m \u001b[43m        \u001b[49m\u001b[38;5;124;43m\"\u001b[39;49m\u001b[38;5;124;43mdefault_image\u001b[39;49m\u001b[38;5;124;43m\"\u001b[39;49m\u001b[43m:\u001b[49m\u001b[43m \u001b[49m\u001b[38;5;124;43mf\u001b[39;49m\u001b[38;5;124;43m'\u001b[39;49m\u001b[38;5;124;43m.mlrun-project-image-\u001b[39;49m\u001b[38;5;132;43;01m{\u001b[39;49;00m\u001b[43mproject_name\u001b[49m\u001b[38;5;132;43;01m}\u001b[39;49;00m\u001b[38;5;124;43m'\u001b[39;49m\u001b[43m,\u001b[49m\n\u001b[1;32m     10\u001b[0m \u001b[43m    \u001b[49m\u001b[43m}\u001b[49m\u001b[43m,\u001b[49m\n\u001b[1;32m     11\u001b[0m \u001b[43m)\u001b[49m\n\u001b[1;32m     12\u001b[0m project\u001b[38;5;241m.\u001b[39msave()\n",
      "File \u001b[0;32m~/.conda/envs/py311/lib/python3.11/site-packages/mlrun/projects/project.py:526\u001b[0m, in \u001b[0;36mget_or_create_project\u001b[0;34m(name, context, url, secrets, init_git, subpath, clone, user_project, from_template, save, parameters, allow_cross_project)\u001b[0m\n\u001b[1;32m    522\u001b[0m context \u001b[38;5;241m=\u001b[39m context \u001b[38;5;129;01mor\u001b[39;00m \u001b[38;5;124m\"\u001b[39m\u001b[38;5;124m./\u001b[39m\u001b[38;5;124m\"\u001b[39m\n\u001b[1;32m    523\u001b[0m \u001b[38;5;28;01mtry\u001b[39;00m:\n\u001b[1;32m    524\u001b[0m     \u001b[38;5;66;03m# load project from the DB.\u001b[39;00m\n\u001b[1;32m    525\u001b[0m     \u001b[38;5;66;03m# use `name` as `url` as we load the project from the DB\u001b[39;00m\n\u001b[0;32m--> 526\u001b[0m     project \u001b[38;5;241m=\u001b[39m \u001b[43mload_project\u001b[49m\u001b[43m(\u001b[49m\n\u001b[1;32m    527\u001b[0m \u001b[43m        \u001b[49m\u001b[43mcontext\u001b[49m\u001b[43m,\u001b[49m\n\u001b[1;32m    528\u001b[0m \u001b[43m        \u001b[49m\u001b[43mname\u001b[49m\u001b[43m,\u001b[49m\n\u001b[1;32m    529\u001b[0m \u001b[43m        \u001b[49m\u001b[43mname\u001b[49m\u001b[43m,\u001b[49m\n\u001b[1;32m    530\u001b[0m \u001b[43m        \u001b[49m\u001b[43msecrets\u001b[49m\u001b[38;5;241;43m=\u001b[39;49m\u001b[43msecrets\u001b[49m\u001b[43m,\u001b[49m\n\u001b[1;32m    531\u001b[0m \u001b[43m        \u001b[49m\u001b[43minit_git\u001b[49m\u001b[38;5;241;43m=\u001b[39;49m\u001b[43minit_git\u001b[49m\u001b[43m,\u001b[49m\n\u001b[1;32m    532\u001b[0m \u001b[43m        \u001b[49m\u001b[43msubpath\u001b[49m\u001b[38;5;241;43m=\u001b[39;49m\u001b[43msubpath\u001b[49m\u001b[43m,\u001b[49m\n\u001b[1;32m    533\u001b[0m \u001b[43m        \u001b[49m\u001b[43mclone\u001b[49m\u001b[38;5;241;43m=\u001b[39;49m\u001b[43mclone\u001b[49m\u001b[43m,\u001b[49m\n\u001b[1;32m    534\u001b[0m \u001b[43m        \u001b[49m\u001b[43muser_project\u001b[49m\u001b[38;5;241;43m=\u001b[39;49m\u001b[43muser_project\u001b[49m\u001b[43m,\u001b[49m\n\u001b[1;32m    535\u001b[0m \u001b[43m        \u001b[49m\u001b[38;5;66;43;03m# only loading project from db so no need to save it\u001b[39;49;00m\n\u001b[1;32m    536\u001b[0m \u001b[43m        \u001b[49m\u001b[43msave\u001b[49m\u001b[38;5;241;43m=\u001b[39;49m\u001b[38;5;28;43;01mFalse\u001b[39;49;00m\u001b[43m,\u001b[49m\n\u001b[1;32m    537\u001b[0m \u001b[43m        \u001b[49m\u001b[43mparameters\u001b[49m\u001b[38;5;241;43m=\u001b[39;49m\u001b[43mparameters\u001b[49m\u001b[43m,\u001b[49m\n\u001b[1;32m    538\u001b[0m \u001b[43m        \u001b[49m\u001b[43mallow_cross_project\u001b[49m\u001b[38;5;241;43m=\u001b[39;49m\u001b[43mallow_cross_project\u001b[49m\u001b[43m,\u001b[49m\n\u001b[1;32m    539\u001b[0m \u001b[43m    \u001b[49m\u001b[43m)\u001b[49m\n\u001b[1;32m    540\u001b[0m     logger\u001b[38;5;241m.\u001b[39minfo(\u001b[38;5;124m\"\u001b[39m\u001b[38;5;124mProject loaded successfully\u001b[39m\u001b[38;5;124m\"\u001b[39m, project_name\u001b[38;5;241m=\u001b[39mproject\u001b[38;5;241m.\u001b[39mname)\n\u001b[1;32m    541\u001b[0m     \u001b[38;5;28;01mreturn\u001b[39;00m project\n",
      "File \u001b[0;32m~/.conda/envs/py311/lib/python3.11/site-packages/mlrun/projects/project.py:446\u001b[0m, in \u001b[0;36mload_project\u001b[0;34m(context, url, name, secrets, init_git, subpath, clone, user_project, save, sync_functions, parameters, allow_cross_project)\u001b[0m\n\u001b[1;32m    443\u001b[0m     project\u001b[38;5;241m.\u001b[39msave()\n\u001b[1;32m    445\u001b[0m \u001b[38;5;66;03m# Hook for initializing the project using a project_setup script\u001b[39;00m\n\u001b[0;32m--> 446\u001b[0m project \u001b[38;5;241m=\u001b[39m \u001b[43mproject\u001b[49m\u001b[38;5;241;43m.\u001b[39;49m\u001b[43msetup\u001b[49m\u001b[43m(\u001b[49m\u001b[43mto_save\u001b[49m\u001b[43m)\u001b[49m\n\u001b[1;32m    448\u001b[0m \u001b[38;5;28;01mif\u001b[39;00m to_save:\n\u001b[1;32m    449\u001b[0m     project\u001b[38;5;241m.\u001b[39mregister_artifacts()\n",
      "File \u001b[0;32m~/.conda/envs/py311/lib/python3.11/site-packages/mlrun/projects/project.py:2132\u001b[0m, in \u001b[0;36mMlrunProject.setup\u001b[0;34m(self, save)\u001b[0m\n\u001b[1;32m   2128\u001b[0m \u001b[38;5;66;03m# Hook for initializing the project using a project_setup script\u001b[39;00m\n\u001b[1;32m   2129\u001b[0m setup_file_path \u001b[38;5;241m=\u001b[39m path\u001b[38;5;241m.\u001b[39mjoin(\n\u001b[1;32m   2130\u001b[0m     \u001b[38;5;28mself\u001b[39m\u001b[38;5;241m.\u001b[39mcontext, \u001b[38;5;28mself\u001b[39m\u001b[38;5;241m.\u001b[39mspec\u001b[38;5;241m.\u001b[39msubpath \u001b[38;5;129;01mor\u001b[39;00m \u001b[38;5;124m\"\u001b[39m\u001b[38;5;124m\"\u001b[39m, \u001b[38;5;124m\"\u001b[39m\u001b[38;5;124mproject_setup.py\u001b[39m\u001b[38;5;124m\"\u001b[39m\n\u001b[1;32m   2131\u001b[0m )\n\u001b[0;32m-> 2132\u001b[0m \u001b[38;5;28;01mreturn\u001b[39;00m \u001b[43m_run_project_setup\u001b[49m\u001b[43m(\u001b[49m\u001b[38;5;28;43mself\u001b[39;49m\u001b[43m,\u001b[49m\u001b[43m \u001b[49m\u001b[43msetup_file_path\u001b[49m\u001b[43m,\u001b[49m\u001b[43m \u001b[49m\u001b[43msave\u001b[49m\u001b[43m)\u001b[49m\n",
      "File \u001b[0;32m~/.conda/envs/py311/lib/python3.11/site-packages/mlrun/projects/project.py:642\u001b[0m, in \u001b[0;36m_run_project_setup\u001b[0;34m(project, setup_file_path, save)\u001b[0m\n\u001b[1;32m    636\u001b[0m \u001b[38;5;28;01mexcept\u001b[39;00m \u001b[38;5;167;01mException\u001b[39;00m \u001b[38;5;28;01mas\u001b[39;00m exc:\n\u001b[1;32m    637\u001b[0m     logger\u001b[38;5;241m.\u001b[39merror(\n\u001b[1;32m    638\u001b[0m         \u001b[38;5;124m\"\u001b[39m\u001b[38;5;124mFailed to run project_setup script\u001b[39m\u001b[38;5;124m\"\u001b[39m,\n\u001b[1;32m    639\u001b[0m         setup_file_path\u001b[38;5;241m=\u001b[39msetup_file_path,\n\u001b[1;32m    640\u001b[0m         exc\u001b[38;5;241m=\u001b[39mmlrun\u001b[38;5;241m.\u001b[39merrors\u001b[38;5;241m.\u001b[39merr_to_str(exc),\n\u001b[1;32m    641\u001b[0m     )\n\u001b[0;32m--> 642\u001b[0m     \u001b[38;5;28;01mraise\u001b[39;00m exc\n\u001b[1;32m    643\u001b[0m \u001b[38;5;28;01mif\u001b[39;00m save:\n\u001b[1;32m    644\u001b[0m     project\u001b[38;5;241m.\u001b[39msave()\n",
      "File \u001b[0;32m~/.conda/envs/py311/lib/python3.11/site-packages/mlrun/projects/project.py:631\u001b[0m, in \u001b[0;36m_run_project_setup\u001b[0;34m(project, setup_file_path, save)\u001b[0m\n\u001b[1;32m    629\u001b[0m \u001b[38;5;28;01mif\u001b[39;00m \u001b[38;5;28mhasattr\u001b[39m(mod, \u001b[38;5;124m\"\u001b[39m\u001b[38;5;124msetup\u001b[39m\u001b[38;5;124m\"\u001b[39m):\n\u001b[1;32m    630\u001b[0m     \u001b[38;5;28;01mtry\u001b[39;00m:\n\u001b[0;32m--> 631\u001b[0m         project \u001b[38;5;241m=\u001b[39m \u001b[38;5;28;43mgetattr\u001b[39;49m\u001b[43m(\u001b[49m\u001b[43mmod\u001b[49m\u001b[43m,\u001b[49m\u001b[43m \u001b[49m\u001b[38;5;124;43m\"\u001b[39;49m\u001b[38;5;124;43msetup\u001b[39;49m\u001b[38;5;124;43m\"\u001b[39;49m\u001b[43m)\u001b[49m\u001b[43m(\u001b[49m\u001b[43mproject\u001b[49m\u001b[43m)\u001b[49m\n\u001b[1;32m    632\u001b[0m         \u001b[38;5;28;01mif\u001b[39;00m \u001b[38;5;129;01mnot\u001b[39;00m project \u001b[38;5;129;01mor\u001b[39;00m \u001b[38;5;129;01mnot\u001b[39;00m \u001b[38;5;28misinstance\u001b[39m(project, mlrun\u001b[38;5;241m.\u001b[39mprojects\u001b[38;5;241m.\u001b[39mMlrunProject):\n\u001b[1;32m    633\u001b[0m             \u001b[38;5;28;01mraise\u001b[39;00m \u001b[38;5;167;01mValueError\u001b[39;00m(\n\u001b[1;32m    634\u001b[0m                 \u001b[38;5;124m\"\u001b[39m\u001b[38;5;124mMLRun project_setup:setup() must return a project object\u001b[39m\u001b[38;5;124m\"\u001b[39m\n\u001b[1;32m    635\u001b[0m             )\n",
      "File \u001b[0;32m~/tmp1/./project_setup.py:78\u001b[0m, in \u001b[0;36msetup\u001b[0;34m(project)\u001b[0m\n\u001b[1;32m     76\u001b[0m \u001b[38;5;28;01mif\u001b[39;00m build_image:\n\u001b[1;32m     77\u001b[0m     \u001b[38;5;28mprint\u001b[39m(\u001b[38;5;124m\"\u001b[39m\u001b[38;5;124mBuilding default image for the debug:\u001b[39m\u001b[38;5;124m\"\u001b[39m)\n\u001b[0;32m---> 78\u001b[0m     \u001b[43m_build_image\u001b[49m\u001b[43m(\u001b[49m\u001b[43mproject\u001b[49m\u001b[38;5;241;43m=\u001b[39;49m\u001b[43mproject\u001b[49m\u001b[43m)\u001b[49m\n\u001b[1;32m     79\u001b[0m \u001b[38;5;28mprint\u001b[39m(\u001b[38;5;124mf\u001b[39m\u001b[38;5;124m'\u001b[39m\u001b[38;5;124mdefault_image after = \u001b[39m\u001b[38;5;132;01m{\u001b[39;00mdefault_image\u001b[38;5;132;01m}\u001b[39;00m\u001b[38;5;124m'\u001b[39m)\n\u001b[1;32m     83\u001b[0m \u001b[38;5;66;03m# Refresh MLRun hub to the most up-to-date version:\u001b[39;00m\n",
      "File \u001b[0;32m~/tmp1/./project_setup.py:156\u001b[0m, in \u001b[0;36m_build_image\u001b[0;34m(project)\u001b[0m\n\u001b[1;32m    131\u001b[0m commands \u001b[38;5;241m=\u001b[39m (\n\u001b[1;32m    132\u001b[0m         system_commands \u001b[38;5;241m+\u001b[39m\n\u001b[1;32m    133\u001b[0m         infrastructure_requirements \u001b[38;5;241m+\u001b[39m\n\u001b[1;32m    134\u001b[0m         huggingface_requirements \u001b[38;5;241m+\u001b[39m\n\u001b[1;32m    135\u001b[0m         other_requirements\n\u001b[1;32m    136\u001b[0m )\n\u001b[1;32m    138\u001b[0m \u001b[38;5;66;03m# commands = (\u001b[39;00m\n\u001b[1;32m    139\u001b[0m \u001b[38;5;66;03m#         system_commands +\u001b[39;00m\n\u001b[1;32m    140\u001b[0m \u001b[38;5;66;03m#         other_requirements\u001b[39;00m\n\u001b[0;32m   (...)\u001b[0m\n\u001b[1;32m    153\u001b[0m \n\u001b[1;32m    154\u001b[0m \u001b[38;5;66;03m# Build the image\u001b[39;00m\n\u001b[1;32m    155\u001b[0m \u001b[38;5;28;01massert\u001b[39;00m project\u001b[38;5;241m.\u001b[39mbuild_image(\n\u001b[0;32m--> 156\u001b[0m     image \u001b[38;5;241m=\u001b[39m \u001b[43mdeafult_image\u001b[49m,\n\u001b[1;32m    157\u001b[0m     base_image\u001b[38;5;241m=\u001b[39mconfig[\u001b[38;5;124m\"\u001b[39m\u001b[38;5;124mbase_image\u001b[39m\u001b[38;5;124m\"\u001b[39m],\n\u001b[1;32m    158\u001b[0m     commands\u001b[38;5;241m=\u001b[39mcommands,\n\u001b[1;32m    159\u001b[0m     set_as_default\u001b[38;5;241m=\u001b[39m\u001b[38;5;28;01mTrue\u001b[39;00m,\n\u001b[1;32m    160\u001b[0m     overwrite_build_params\u001b[38;5;241m=\u001b[39m\u001b[38;5;28;01mTrue\u001b[39;00m\n\u001b[1;32m    161\u001b[0m )\n\u001b[1;32m    162\u001b[0m \u001b[38;5;66;03m# command for building woorkflow image\u001b[39;00m\n\u001b[1;32m    163\u001b[0m commands\u001b[38;5;241m=\u001b[39m[\u001b[38;5;124m'\u001b[39m\u001b[38;5;124mpip install SQLAlchemy==2.0.31 && \u001b[39m\u001b[38;5;130;01m\\\u001b[39;00m\n\u001b[1;32m    164\u001b[0m \u001b[38;5;124m      echo \u001b[39m\u001b[38;5;124m\"\u001b[39m\u001b[38;5;124m\"\u001b[39m\u001b[38;5;124m > /empty/requirements.txt && \u001b[39m\u001b[38;5;130;01m\\\u001b[39;00m\n\u001b[1;32m    165\u001b[0m \u001b[38;5;124m      ls -l /empty/ && \u001b[39m\u001b[38;5;130;01m\\\u001b[39;00m\n\u001b[0;32m   (...)\u001b[0m\n\u001b[1;32m    168\u001b[0m \u001b[38;5;124m      rm -rf /home/mlrun-code/project_setup.py\u001b[39m\u001b[38;5;124m'\u001b[39m\n\u001b[1;32m    169\u001b[0m      ]\n",
      "\u001b[0;31mNameError\u001b[0m: name 'deafult_image' is not defined"
     ]
    }
   ],
   "source": [
    "project_name = \"kfp-with-mlrun-image-kfp\"\n",
    "\n",
    "project = mlrun.get_or_create_project(\n",
    "    name=project_name,\n",
    "    user_project=True,\n",
    "    parameters={\n",
    "        \"build_image\": True,\n",
    "        \"source\": \"git://github.com/xsqian/slim-call-center.git#dan\",\n",
    "        \"default_image\": f'.mlrun-project-image-{project_name}',\n",
    "    },\n",
    ")\n",
    "project.save()"
   ]
  },
  {
   "cell_type": "code",
   "execution_count": 3,
   "id": "d0c13c83-cdeb-43ab-90aa-3fdb5020021a",
   "metadata": {},
   "outputs": [
    {
     "name": "stdout",
     "output_type": "stream",
     "text": [
      "> 2025-07-08 02:49:22,755 [info] Submitting remote workflow: {\"project_name\":\"kfp-with-mlrun-image-kfp-xingsheng\",\"schedule\":null,\"workflow_engine\":\"kfp\"}\n",
      "> 2025-07-08 02:49:42,497 [info] Started run workflow kfp-with-mlrun-image-kfp-xingsheng-dummy with run id = 'cc8d4aed-05f7-42c2-8cd3-0b979e0d7a51' by remote engine\n",
      "> 2025-07-08 02:49:42,498 [info] Waiting for pipeline run completion: {\"project\":\"kfp-with-mlrun-image-kfp-xingsheng\",\"run_id\":\"cc8d4aed-05f7-42c2-8cd3-0b979e0d7a51\"}\n"
     ]
    },
    {
     "data": {
      "text/html": [
       "<div id=\"1d5ec394309f4aaf8ee709b531396680\">Temporary Display Content</div>"
      ],
      "text/plain": [
       "<IPython.core.display.HTML object>"
      ]
     },
     "metadata": {},
     "output_type": "display_data"
    },
    {
     "data": {
      "text/html": [
       "<h2>Run Results</h2><h3>[info] Workflow cc8d4aed-05f7-42c2-8cd3-0b979e0d7a51 finished with 1 errors, state=Unknown</h3><br>click the hyper links below to see detailed results<br><table border=\"1\" class=\"dataframe\">\n",
       "  <thead>\n",
       "    <tr style=\"text-align: right;\">\n",
       "      <th>uid</th>\n",
       "      <th>start</th>\n",
       "      <th>end</th>\n",
       "      <th>state</th>\n",
       "      <th>kind</th>\n",
       "      <th>name</th>\n",
       "      <th>parameters</th>\n",
       "      <th>results</th>\n",
       "    </tr>\n",
       "  </thead>\n",
       "  <tbody>\n",
       "    <tr>\n",
       "      <td><div title=\"8d86f69d9e1f489585e38e33b84c40b0\"><a href=\"https://dashboard.default-tenant.app.cst-360.iguazio-cd0.com/mlprojects/kfp-with-mlrun-image-kfp-xingsheng/jobs/monitor-jobs/printdummy/8d86f69d9e1f489585e38e33b84c40b0/overview\" target=\"_blank\" >...b84c40b0</a></div></td>\n",
       "      <td>Jul 08 02:49:49</td>\n",
       "      <td>2025-07-08 02:50:00.343250+00:00</td>\n",
       "      <td>completed</td>\n",
       "      <td>run</td>\n",
       "      <td>printdummy</td>\n",
       "      <td></td>\n",
       "      <td></td>\n",
       "    </tr>\n",
       "    <tr>\n",
       "      <td><div title=\"c9e009beceba4ca6b98f1aa343cec7dd\"><a href=\"https://dashboard.default-tenant.app.cst-360.iguazio-cd0.com/mlprojects/kfp-with-mlrun-image-kfp-xingsheng/jobs/monitor-jobs/another-dummy/c9e009beceba4ca6b98f1aa343cec7dd/overview\" target=\"_blank\" >...43cec7dd</a></div></td>\n",
       "      <td>Jul 08 02:49:49</td>\n",
       "      <td>2025-07-08 02:49:49.886551+00:00</td>\n",
       "      <td><div style=\"color: red;\" title=\"/opt/conda/bin/python: can't open file '/home/mlrun_code/./src/sub/printdummy.py': [Errno 2] No such file or directory\\n\">error</div></td>\n",
       "      <td>run</td>\n",
       "      <td>another-dummy</td>\n",
       "      <td></td>\n",
       "      <td></td>\n",
       "    </tr>\n",
       "  </tbody>\n",
       "</table>"
      ],
      "text/plain": [
       "<IPython.core.display.HTML object>"
      ]
     },
     "metadata": {},
     "output_type": "display_data"
    },
    {
     "ename": "RuntimeError",
     "evalue": "Pipeline run status Failed",
     "output_type": "error",
     "traceback": [
      "\u001b[0;31m---------------------------------------------------------------------------\u001b[0m",
      "\u001b[0;31mRuntimeError\u001b[0m                              Traceback (most recent call last)",
      "Cell \u001b[0;32mIn[3], line 1\u001b[0m\n\u001b[0;32m----> 1\u001b[0m \u001b[43mproject\u001b[49m\u001b[38;5;241;43m.\u001b[39;49m\u001b[43mrun\u001b[49m\u001b[43m(\u001b[49m\u001b[38;5;124;43m'\u001b[39;49m\u001b[38;5;124;43mdummy\u001b[39;49m\u001b[38;5;124;43m'\u001b[39;49m\u001b[43m,\u001b[49m\u001b[43m \u001b[49m\u001b[43mdirty\u001b[49m\u001b[38;5;241;43m=\u001b[39;49m\u001b[38;5;28;43;01mTrue\u001b[39;49;00m\u001b[43m,\u001b[49m\u001b[43m \u001b[49m\u001b[43mwatch\u001b[49m\u001b[38;5;241;43m=\u001b[39;49m\u001b[38;5;28;43;01mTrue\u001b[39;49;00m\u001b[43m,\u001b[49m\u001b[43m \u001b[49m\u001b[43mengine\u001b[49m\u001b[38;5;241;43m=\u001b[39;49m\u001b[38;5;124;43m\"\u001b[39;49m\u001b[38;5;124;43mremote\u001b[39;49m\u001b[38;5;124;43m\"\u001b[39;49m\u001b[43m,\u001b[49m\u001b[43m \u001b[49m\u001b[43mtimeout\u001b[49m\u001b[38;5;241;43m=\u001b[39;49m\u001b[38;5;241;43m60\u001b[39;49m\u001b[43m \u001b[49m\u001b[38;5;241;43m*\u001b[39;49m\u001b[43m \u001b[49m\u001b[38;5;241;43m60\u001b[39;49m\u001b[43m,\u001b[49m\u001b[43m \u001b[49m\u001b[43marguments\u001b[49m\u001b[38;5;241;43m=\u001b[39;49m\u001b[43m{\u001b[49m\u001b[38;5;124;43m\"\u001b[39;49m\u001b[38;5;124;43mbuild_image\u001b[39;49m\u001b[38;5;124;43m\"\u001b[39;49m\u001b[43m:\u001b[49m\u001b[43m \u001b[49m\u001b[38;5;28;43;01mFalse\u001b[39;49;00m\u001b[43m,\u001b[49m\u001b[43m}\u001b[49m\u001b[43m)\u001b[49m \n",
      "File \u001b[0;32m~/.conda/envs/py311/lib/python3.11/site-packages/mlrun/projects/project.py:3576\u001b[0m, in \u001b[0;36mMlrunProject.run\u001b[0;34m(self, name, workflow_path, arguments, artifact_path, workflow_handler, namespace, sync, watch, dirty, engine, local, schedule, timeout, source, cleanup_ttl, notifications, workflow_runner_node_selector, context)\u001b[0m\n\u001b[1;32m   3573\u001b[0m         status_engine \u001b[38;5;241m=\u001b[39m _RemoteRunner\n\u001b[1;32m   3574\u001b[0m         run_status_kwargs[\u001b[38;5;124m\"\u001b[39m\u001b[38;5;124minner_engine\u001b[39m\u001b[38;5;124m\"\u001b[39m] \u001b[38;5;241m=\u001b[39m run\u001b[38;5;241m.\u001b[39m_engine\n\u001b[0;32m-> 3576\u001b[0m     \u001b[43mstatus_engine\u001b[49m\u001b[38;5;241;43m.\u001b[39;49m\u001b[43mget_run_status\u001b[49m\u001b[43m(\u001b[49m\n\u001b[1;32m   3577\u001b[0m \u001b[43m        \u001b[49m\u001b[43mproject\u001b[49m\u001b[38;5;241;43m=\u001b[39;49m\u001b[38;5;28;43mself\u001b[39;49m\u001b[43m,\u001b[49m\u001b[43m \u001b[49m\u001b[43mrun\u001b[49m\u001b[38;5;241;43m=\u001b[39;49m\u001b[43mrun\u001b[49m\u001b[43m,\u001b[49m\u001b[43m \u001b[49m\u001b[43mtimeout\u001b[49m\u001b[38;5;241;43m=\u001b[39;49m\u001b[43mtimeout\u001b[49m\u001b[43m,\u001b[49m\u001b[43m \u001b[49m\u001b[38;5;241;43m*\u001b[39;49m\u001b[38;5;241;43m*\u001b[39;49m\u001b[43mrun_status_kwargs\u001b[49m\n\u001b[1;32m   3578\u001b[0m \u001b[43m    \u001b[49m\u001b[43m)\u001b[49m\n\u001b[1;32m   3579\u001b[0m \u001b[38;5;28;01mreturn\u001b[39;00m run\n",
      "File \u001b[0;32m~/.conda/envs/py311/lib/python3.11/site-packages/mlrun/projects/pipelines.py:970\u001b[0m, in \u001b[0;36m_RemoteRunner.get_run_status\u001b[0;34m(project, run, timeout, expected_statuses, notifiers, inner_engine)\u001b[0m\n\u001b[1;32m    962\u001b[0m     local_project_notifiers \u001b[38;5;241m=\u001b[39m \u001b[38;5;28mlist\u001b[39m(\n\u001b[1;32m    963\u001b[0m         \u001b[38;5;28mset\u001b[39m(mlrun\u001b[38;5;241m.\u001b[39mutils\u001b[38;5;241m.\u001b[39mnotifications\u001b[38;5;241m.\u001b[39mNotificationTypes\u001b[38;5;241m.\u001b[39mlocal())\u001b[38;5;241m.\u001b[39mintersection(\n\u001b[1;32m    964\u001b[0m             \u001b[38;5;28mset\u001b[39m(project\u001b[38;5;241m.\u001b[39mnotifiers\u001b[38;5;241m.\u001b[39mnotifications\u001b[38;5;241m.\u001b[39mkeys())\n\u001b[1;32m    965\u001b[0m         )\n\u001b[1;32m    966\u001b[0m     )\n\u001b[1;32m    967\u001b[0m     notifiers \u001b[38;5;241m=\u001b[39m mlrun\u001b[38;5;241m.\u001b[39mutils\u001b[38;5;241m.\u001b[39mnotifications\u001b[38;5;241m.\u001b[39mCustomNotificationPusher(\n\u001b[1;32m    968\u001b[0m         local_project_notifiers\n\u001b[1;32m    969\u001b[0m     )\n\u001b[0;32m--> 970\u001b[0m     \u001b[38;5;28;01mreturn\u001b[39;00m \u001b[43m_KFPRunner\u001b[49m\u001b[38;5;241;43m.\u001b[39;49m\u001b[43mget_run_status\u001b[49m\u001b[43m(\u001b[49m\n\u001b[1;32m    971\u001b[0m \u001b[43m        \u001b[49m\u001b[43mproject\u001b[49m\u001b[43m,\u001b[49m\n\u001b[1;32m    972\u001b[0m \u001b[43m        \u001b[49m\u001b[43mrun\u001b[49m\u001b[43m,\u001b[49m\n\u001b[1;32m    973\u001b[0m \u001b[43m        \u001b[49m\u001b[43mtimeout\u001b[49m\u001b[43m,\u001b[49m\n\u001b[1;32m    974\u001b[0m \u001b[43m        \u001b[49m\u001b[43mexpected_statuses\u001b[49m\u001b[43m,\u001b[49m\n\u001b[1;32m    975\u001b[0m \u001b[43m        \u001b[49m\u001b[43mnotifiers\u001b[49m\u001b[38;5;241;43m=\u001b[39;49m\u001b[43mnotifiers\u001b[49m\u001b[43m,\u001b[49m\n\u001b[1;32m    976\u001b[0m \u001b[43m    \u001b[49m\u001b[43m)\u001b[49m\n\u001b[1;32m    978\u001b[0m \u001b[38;5;28;01melif\u001b[39;00m inner_engine\u001b[38;5;241m.\u001b[39mengine \u001b[38;5;241m==\u001b[39m _LocalRunner\u001b[38;5;241m.\u001b[39mengine:\n\u001b[1;32m    979\u001b[0m     mldb \u001b[38;5;241m=\u001b[39m mlrun\u001b[38;5;241m.\u001b[39mdb\u001b[38;5;241m.\u001b[39mget_run_db(secrets\u001b[38;5;241m=\u001b[39mproject\u001b[38;5;241m.\u001b[39m_secrets)\n",
      "File \u001b[0;32m~/.conda/envs/py311/lib/python3.11/site-packages/mlrun/projects/pipelines.py:533\u001b[0m, in \u001b[0;36m_PipelineRunner.get_run_status\u001b[0;34m(project, run, timeout, expected_statuses, notifiers, **kwargs)\u001b[0m\n\u001b[1;32m    530\u001b[0m project\u001b[38;5;241m.\u001b[39mpush_pipeline_notification_kfp_runner(run\u001b[38;5;241m.\u001b[39mrun_id, run\u001b[38;5;241m.\u001b[39m_state, text)\n\u001b[1;32m    532\u001b[0m \u001b[38;5;28;01mif\u001b[39;00m raise_error:\n\u001b[0;32m--> 533\u001b[0m     \u001b[38;5;28;01mraise\u001b[39;00m raise_error\n\u001b[1;32m    534\u001b[0m \u001b[38;5;28;01mreturn\u001b[39;00m state \u001b[38;5;129;01mor\u001b[39;00m run\u001b[38;5;241m.\u001b[39m_state, errors_counter, text\n",
      "File \u001b[0;32m~/.conda/envs/py311/lib/python3.11/site-packages/mlrun/projects/pipelines.py:507\u001b[0m, in \u001b[0;36m_PipelineRunner.get_run_status\u001b[0;34m(project, run, timeout, expected_statuses, notifiers, **kwargs)\u001b[0m\n\u001b[1;32m    505\u001b[0m \u001b[38;5;28;01mtry\u001b[39;00m:\n\u001b[1;32m    506\u001b[0m     \u001b[38;5;28;01mif\u001b[39;00m timeout:\n\u001b[0;32m--> 507\u001b[0m         state \u001b[38;5;241m=\u001b[39m \u001b[43mrun\u001b[49m\u001b[38;5;241;43m.\u001b[39;49m\u001b[43mwait_for_completion\u001b[49m\u001b[43m(\u001b[49m\n\u001b[1;32m    508\u001b[0m \u001b[43m            \u001b[49m\u001b[43mtimeout\u001b[49m\u001b[38;5;241;43m=\u001b[39;49m\u001b[43mtimeout\u001b[49m\u001b[43m,\u001b[49m\u001b[43m \u001b[49m\u001b[43mexpected_statuses\u001b[49m\u001b[38;5;241;43m=\u001b[39;49m\u001b[43mexpected_statuses\u001b[49m\n\u001b[1;32m    509\u001b[0m \u001b[43m        \u001b[49m\u001b[43m)\u001b[49m\n\u001b[1;32m    510\u001b[0m \u001b[38;5;28;01mexcept\u001b[39;00m \u001b[38;5;167;01mRuntimeError\u001b[39;00m \u001b[38;5;28;01mas\u001b[39;00m exc:\n\u001b[1;32m    511\u001b[0m     \u001b[38;5;66;03m# push runs table also when we have errors\u001b[39;00m\n\u001b[1;32m    512\u001b[0m     raise_error \u001b[38;5;241m=\u001b[39m exc\n",
      "File \u001b[0;32m~/.conda/envs/py311/lib/python3.11/site-packages/mlrun/projects/pipelines.py:413\u001b[0m, in \u001b[0;36m_PipelineRunStatus.wait_for_completion\u001b[0;34m(self, timeout, expected_statuses)\u001b[0m\n\u001b[1;32m    412\u001b[0m \u001b[38;5;28;01mdef\u001b[39;00m\u001b[38;5;250m \u001b[39m\u001b[38;5;21mwait_for_completion\u001b[39m(\u001b[38;5;28mself\u001b[39m, timeout\u001b[38;5;241m=\u001b[39m\u001b[38;5;28;01mNone\u001b[39;00m, expected_statuses\u001b[38;5;241m=\u001b[39m\u001b[38;5;28;01mNone\u001b[39;00m):\n\u001b[0;32m--> 413\u001b[0m     returned_state \u001b[38;5;241m=\u001b[39m \u001b[38;5;28;43mself\u001b[39;49m\u001b[38;5;241;43m.\u001b[39;49m\u001b[43m_engine\u001b[49m\u001b[38;5;241;43m.\u001b[39;49m\u001b[43mwait_for_completion\u001b[49m\u001b[43m(\u001b[49m\n\u001b[1;32m    414\u001b[0m \u001b[43m        \u001b[49m\u001b[38;5;28;43mself\u001b[39;49m\u001b[43m,\u001b[49m\n\u001b[1;32m    415\u001b[0m \u001b[43m        \u001b[49m\u001b[43mproject\u001b[49m\u001b[38;5;241;43m=\u001b[39;49m\u001b[38;5;28;43mself\u001b[39;49m\u001b[38;5;241;43m.\u001b[39;49m\u001b[43mproject\u001b[49m\u001b[43m,\u001b[49m\n\u001b[1;32m    416\u001b[0m \u001b[43m        \u001b[49m\u001b[43mtimeout\u001b[49m\u001b[38;5;241;43m=\u001b[39;49m\u001b[43mtimeout\u001b[49m\u001b[43m,\u001b[49m\n\u001b[1;32m    417\u001b[0m \u001b[43m        \u001b[49m\u001b[43mexpected_statuses\u001b[49m\u001b[38;5;241;43m=\u001b[39;49m\u001b[43mexpected_statuses\u001b[49m\u001b[43m,\u001b[49m\n\u001b[1;32m    418\u001b[0m \u001b[43m    \u001b[49m\u001b[43m)\u001b[49m\n\u001b[1;32m    419\u001b[0m     \u001b[38;5;66;03m# TODO: returning a state is optional until all runners implement wait_for_completion\u001b[39;00m\n\u001b[1;32m    420\u001b[0m     \u001b[38;5;28;01mif\u001b[39;00m returned_state:\n",
      "File \u001b[0;32m~/.conda/envs/py311/lib/python3.11/site-packages/mlrun/projects/pipelines.py:713\u001b[0m, in \u001b[0;36m_KFPRunner.wait_for_completion\u001b[0;34m(run, project, timeout, expected_statuses)\u001b[0m\n\u001b[1;32m    707\u001b[0m logger\u001b[38;5;241m.\u001b[39minfo(\n\u001b[1;32m    708\u001b[0m     \u001b[38;5;124m\"\u001b[39m\u001b[38;5;124mWaiting for pipeline run completion\u001b[39m\u001b[38;5;124m\"\u001b[39m,\n\u001b[1;32m    709\u001b[0m     run_id\u001b[38;5;241m=\u001b[39mrun\u001b[38;5;241m.\u001b[39mrun_id,\n\u001b[1;32m    710\u001b[0m     project\u001b[38;5;241m=\u001b[39mproject_name,\n\u001b[1;32m    711\u001b[0m )\n\u001b[1;32m    712\u001b[0m timeout \u001b[38;5;241m=\u001b[39m timeout \u001b[38;5;129;01mor\u001b[39;00m \u001b[38;5;241m60\u001b[39m \u001b[38;5;241m*\u001b[39m \u001b[38;5;241m60\u001b[39m\n\u001b[0;32m--> 713\u001b[0m run_info \u001b[38;5;241m=\u001b[39m \u001b[43mwait_for_pipeline_completion\u001b[49m\u001b[43m(\u001b[49m\n\u001b[1;32m    714\u001b[0m \u001b[43m    \u001b[49m\u001b[43mrun\u001b[49m\u001b[38;5;241;43m.\u001b[39;49m\u001b[43mrun_id\u001b[49m\u001b[43m,\u001b[49m\n\u001b[1;32m    715\u001b[0m \u001b[43m    \u001b[49m\u001b[43mtimeout\u001b[49m\u001b[38;5;241;43m=\u001b[39;49m\u001b[43mtimeout\u001b[49m\u001b[43m,\u001b[49m\n\u001b[1;32m    716\u001b[0m \u001b[43m    \u001b[49m\u001b[43mexpected_statuses\u001b[49m\u001b[38;5;241;43m=\u001b[39;49m\u001b[43mexpected_statuses\u001b[49m\u001b[43m,\u001b[49m\n\u001b[1;32m    717\u001b[0m \u001b[43m    \u001b[49m\u001b[43mproject\u001b[49m\u001b[38;5;241;43m=\u001b[39;49m\u001b[43mproject_name\u001b[49m\u001b[43m,\u001b[49m\n\u001b[1;32m    718\u001b[0m \u001b[43m\u001b[49m\u001b[43m)\u001b[49m\n\u001b[1;32m    719\u001b[0m status \u001b[38;5;241m=\u001b[39m \u001b[38;5;124m\"\u001b[39m\u001b[38;5;124m\"\u001b[39m\n\u001b[1;32m    720\u001b[0m \u001b[38;5;28;01mif\u001b[39;00m run_info:\n",
      "File \u001b[0;32m~/.conda/envs/py311/lib/python3.11/site-packages/mlrun/run.py:1029\u001b[0m, in \u001b[0;36mwait_for_pipeline_completion\u001b[0;34m(run_id, timeout, expected_statuses, namespace, remote, project)\u001b[0m\n\u001b[1;32m   1027\u001b[0m \u001b[38;5;28;01mif\u001b[39;00m expected_statuses:\n\u001b[1;32m   1028\u001b[0m     \u001b[38;5;28;01mif\u001b[39;00m status \u001b[38;5;129;01mnot\u001b[39;00m \u001b[38;5;129;01min\u001b[39;00m expected_statuses:\n\u001b[0;32m-> 1029\u001b[0m         \u001b[38;5;28;01mraise\u001b[39;00m \u001b[38;5;167;01mRuntimeError\u001b[39;00m(\n\u001b[1;32m   1030\u001b[0m             \u001b[38;5;124mf\u001b[39m\u001b[38;5;124m\"\u001b[39m\u001b[38;5;124mPipeline run status \u001b[39m\u001b[38;5;132;01m{\u001b[39;00mstatus\u001b[38;5;132;01m}\u001b[39;00m\u001b[38;5;132;01m{\u001b[39;00m\u001b[38;5;124m'\u001b[39m\u001b[38;5;124m, \u001b[39m\u001b[38;5;124m'\u001b[39m\u001b[38;5;250m \u001b[39m\u001b[38;5;241m+\u001b[39m\u001b[38;5;250m \u001b[39mmessage\u001b[38;5;250m \u001b[39m\u001b[38;5;28;01mif\u001b[39;00m\u001b[38;5;250m \u001b[39mmessage\u001b[38;5;250m \u001b[39m\u001b[38;5;28;01melse\u001b[39;00m\u001b[38;5;250m \u001b[39m\u001b[38;5;124m'\u001b[39m\u001b[38;5;124m'\u001b[39m\u001b[38;5;132;01m}\u001b[39;00m\u001b[38;5;124m\"\u001b[39m\n\u001b[1;32m   1031\u001b[0m         )\n\u001b[1;32m   1033\u001b[0m logger\u001b[38;5;241m.\u001b[39mdebug(\n\u001b[1;32m   1034\u001b[0m     \u001b[38;5;124mf\u001b[39m\u001b[38;5;124m\"\u001b[39m\u001b[38;5;124mFinished waiting for pipeline completion.\u001b[39m\u001b[38;5;124m\"\u001b[39m\n\u001b[1;32m   1035\u001b[0m     \u001b[38;5;124mf\u001b[39m\u001b[38;5;124m\"\u001b[39m\u001b[38;5;124m run_id: \u001b[39m\u001b[38;5;132;01m{\u001b[39;00mrun_id\u001b[38;5;132;01m}\u001b[39;00m\u001b[38;5;124m,\u001b[39m\u001b[38;5;124m\"\u001b[39m\n\u001b[0;32m   (...)\u001b[0m\n\u001b[1;32m   1038\u001b[0m     \u001b[38;5;124mf\u001b[39m\u001b[38;5;124m\"\u001b[39m\u001b[38;5;124m namespace: \u001b[39m\u001b[38;5;132;01m{\u001b[39;00mnamespace\u001b[38;5;132;01m}\u001b[39;00m\u001b[38;5;124m\"\u001b[39m\n\u001b[1;32m   1039\u001b[0m )\n\u001b[1;32m   1041\u001b[0m \u001b[38;5;28;01mreturn\u001b[39;00m resp\n",
      "\u001b[0;31mRuntimeError\u001b[0m: Pipeline run status Failed"
     ]
    }
   ],
   "source": [
    "project.run('dummy', dirty=True, watch=True, engine=\"remote\", timeout=60 * 60, arguments={\"build_image\": False,}) "
   ]
  },
  {
   "cell_type": "code",
   "execution_count": null,
   "id": "9e2a5459-0b62-4083-a679-2edc343410bd",
   "metadata": {},
   "outputs": [],
   "source": []
  },
  {
   "cell_type": "code",
   "execution_count": null,
   "id": "2e58f37d-c1f2-43b6-84f5-f13b53879b57",
   "metadata": {},
   "outputs": [],
   "source": []
  }
 ],
 "metadata": {
  "kernelspec": {
   "display_name": "py311",
   "language": "python",
   "name": "conda-env-.conda-py311-py"
  },
  "language_info": {
   "codemirror_mode": {
    "name": "ipython",
    "version": 3
   },
   "file_extension": ".py",
   "mimetype": "text/x-python",
   "name": "python",
   "nbconvert_exporter": "python",
   "pygments_lexer": "ipython3",
   "version": "3.11.13"
  }
 },
 "nbformat": 4,
 "nbformat_minor": 5
}
