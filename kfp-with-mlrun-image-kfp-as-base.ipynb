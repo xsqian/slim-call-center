{
 "cells": [
  {
   "cell_type": "markdown",
   "id": "e7ae5205-27c9-4d80-9430-45af76525578",
   "metadata": {},
   "source": [
    "Here is the env:\n",
    "- python 3.11\n",
    "- mlrun 1.9.1"
   ]
  },
  {
   "cell_type": "code",
   "execution_count": 1,
   "id": "e3f63b33-b7a4-4c01-8d4c-58eb7f0bdbbd",
   "metadata": {},
   "outputs": [
    {
     "name": "stdout",
     "output_type": "stream",
     "text": [
      "1.9.1\n"
     ]
    }
   ],
   "source": [
    "import mlrun\n",
    "print(mlrun.__version__)"
   ]
  },
  {
   "cell_type": "markdown",
   "id": "9b5033c2-5777-4915-a68d-4e797fef53c0",
   "metadata": {},
   "source": [
    "### chnage \"build_image\": True, once to build the default image for the project"
   ]
  },
  {
   "cell_type": "code",
   "execution_count": 2,
   "id": "56200c2a-bc19-4da9-b247-f9ffda79dc86",
   "metadata": {},
   "outputs": [
    {
     "name": "stdout",
     "output_type": "stream",
     "text": [
      "get_param source = git://github.com/xsqian/slim-call-center.git#main\n",
      "get_param default_image = .mlrun-project-image-kfp-with-mlrun-image-kfp\n",
      "get_param build_image = False\n",
      "Project Source: git://github.com/xsqian/slim-call-center.git#main\n",
      "outside default_image = .mlrun-project-image-kfp-with-mlrun-image-kfp\n",
      "indise default_image = .mlrun-project-image-kfp-with-mlrun-image-kfp\n",
      "default_image after = .mlrun-project-image-kfp-with-mlrun-image-kfp\n",
      "> 2025-07-07 17:08:11,487 [info] Project loaded successfully: {\"project_name\":\"kfp-with-mlrun-image-kfp-xingsheng\"}\n"
     ]
    },
    {
     "data": {
      "text/plain": [
       "<mlrun.projects.project.MlrunProject at 0x7f5dc21437d0>"
      ]
     },
     "execution_count": 2,
     "metadata": {},
     "output_type": "execute_result"
    }
   ],
   "source": [
    "project_name = \"kfp-with-mlrun-image-kfp\"\n",
    "\n",
    "project = mlrun.get_or_create_project(\n",
    "    name=project_name,\n",
    "    user_project=True,\n",
    "    parameters={\n",
    "        \"build_image\": False,\n",
    "        \"source\": \"git://github.com/xsqian/slim-call-center.git#main\",\n",
    "        \"default_image\": f'.mlrun-project-image-{project_name}',\n",
    "    },\n",
    ")\n",
    "project.save()"
   ]
  },
  {
   "cell_type": "code",
   "execution_count": 3,
   "id": "d0c13c83-cdeb-43ab-90aa-3fdb5020021a",
   "metadata": {},
   "outputs": [
    {
     "name": "stdout",
     "output_type": "stream",
     "text": [
      "> 2025-07-07 17:08:11,641 [info] Submitting remote workflow: {\"project_name\":\"kfp-with-mlrun-image-kfp-xingsheng\",\"schedule\":null,\"workflow_engine\":\"kfp\"}\n",
      "> 2025-07-07 17:08:21,084 [error] Workflow run failed: {\"exc_info\":[\"Traceback (most recent call last):\\n\",\"  File \\\"/User/.conda/envs/py311/lib/python3.11/site-packages/mlrun/errors.py\\\", line 96, in raise_for_status\\n    response.raise_for_status()\\n\",\"  File \\\"/User/.conda/envs/py311/lib/python3.11/site-packages/requests/models.py\\\", line 1026, in raise_for_status\\n    raise HTTPError(http_error_msg, response=self)\\n\",\"requests.exceptions.HTTPError: 412 Client Error: Precondition Failed for url: http://mlrun-api:8080/api/v1/projects/kfp-with-mlrun-image-kfp-xingsheng/workflows/dummy/runs/b31e6700ea1b4916bc74a61d5a2770ca?engine=kfp\\n\",\"\\nThe above exception was the direct cause of the following exception:\\n\\n\",\"Traceback (most recent call last):\\n\",\"  File \\\"/User/.conda/envs/py311/lib/python3.11/site-packages/mlrun/projects/pipelines.py\\\", line 919, in run\\n    response = retry_until_successful(\\n               ^^^^^^^^^^^^^^^^^^^^^^^\\n\",\"  File \\\"/User/.conda/envs/py311/lib/python3.11/site-packages/mlrun/utils/helpers.py\\\", line 1034, in retry_until_successful\\n    return Retryer(backoff, timeout, logger, verbose, _function, *args, **kwargs).run()\\n           ^^^^^^^^^^^^^^^^^^^^^^^^^^^^^^^^^^^^^^^^^^^^^^^^^^^^^^^^^^^^^^^^^^^^^^^^^^^^\\n\",\"  File \\\"/User/.conda/envs/py311/lib/python3.11/site-packages/mlrun/utils/retryer.py\\\", line 109, in run\\n    result, exc, retry = self._perform_call(next_interval)\\n                         ^^^^^^^^^^^^^^^^^^^^^^^^^^^^^^^^^\\n\",\"  File \\\"/User/.conda/envs/py311/lib/python3.11/site-packages/mlrun/utils/retryer.py\\\", line 139, in _perform_call\\n    raise exc.original_exception\\n\",\"  File \\\"/User/.conda/envs/py311/lib/python3.11/site-packages/mlrun/projects/pipelines.py\\\", line 900, in _get_workflow_id_or_bail\\n    return run_db.get_workflow_id(\\n           ^^^^^^^^^^^^^^^^^^^^^^^\\n\",\"  File \\\"/User/.conda/envs/py311/lib/python3.11/site-packages/mlrun/db/httpdb.py\\\", line 4621, in get_workflow_id\\n    response = self.api_call(\\n               ^^^^^^^^^^^^^^\\n\",\"  File \\\"/User/.conda/envs/py311/lib/python3.11/site-packages/mlrun/db/httpdb.py\\\", line 303, in api_call\\n    mlrun.errors.raise_for_status(response, error)\\n\",\"  File \\\"/User/.conda/envs/py311/lib/python3.11/site-packages/mlrun/errors.py\\\", line 105, in raise_for_status\\n    raise STATUS_ERRORS[status_code](error_message, response=response) from exc\\n\",\"mlrun.errors.MLRunPreconditionFailedError: details: MLRunPreconditionFailedError(\\\"Failed to run workflow dummy, state: error, state_text: No module named 'src'\\\")\\n\"]}\n"
     ]
    },
    {
     "data": {
      "text/html": [
       "[error] :x: Workflow dummy run failed!, error: details: MLRunPreconditionFailedError(\"Failed to run workflow dummy, state: error, state_text: No module named 'src'\"), caused by: 412 Client Error: Precondition Failed for url: http://mlrun-api:8080/api/v1/projects/kfp-with-mlrun-image-kfp-xingsheng/workflows/dummy/runs/b31e6700ea1b4916bc74a61d5a2770ca?engine=kfp"
      ],
      "text/plain": [
       "<IPython.core.display.HTML object>"
      ]
     },
     "metadata": {},
     "output_type": "display_data"
    },
    {
     "data": {
      "text/plain": [
       "None"
      ]
     },
     "execution_count": 3,
     "metadata": {},
     "output_type": "execute_result"
    }
   ],
   "source": [
    "project.run('dummy', dirty=True, watch=True, engine=\"remote\", timeout=60 * 60, arguments={\"build_image\": False,}) "
   ]
  },
  {
   "cell_type": "code",
   "execution_count": null,
   "id": "9e2a5459-0b62-4083-a679-2edc343410bd",
   "metadata": {},
   "outputs": [],
   "source": []
  }
 ],
 "metadata": {
  "kernelspec": {
   "display_name": "py311",
   "language": "python",
   "name": "conda-env-.conda-py311-py"
  },
  "language_info": {
   "codemirror_mode": {
    "name": "ipython",
    "version": 3
   },
   "file_extension": ".py",
   "mimetype": "text/x-python",
   "name": "python",
   "nbconvert_exporter": "python",
   "pygments_lexer": "ipython3",
   "version": "3.11.13"
  }
 },
 "nbformat": 4,
 "nbformat_minor": 5
}
