{
 "cells": [
  {
   "cell_type": "markdown",
   "id": "e7ae5205-27c9-4d80-9430-45af76525578",
   "metadata": {},
   "source": [
    "Here is the env:\n",
    "- python 3.11\n",
    "- mlrun 1.9.1"
   ]
  },
  {
   "cell_type": "code",
   "execution_count": 1,
   "id": "e3f63b33-b7a4-4c01-8d4c-58eb7f0bdbbd",
   "metadata": {},
   "outputs": [
    {
     "name": "stdout",
     "output_type": "stream",
     "text": [
      "1.9.1\n"
     ]
    }
   ],
   "source": [
    "import mlrun\n",
    "print(mlrun.__version__)"
   ]
  },
  {
   "cell_type": "markdown",
   "id": "9b5033c2-5777-4915-a68d-4e797fef53c0",
   "metadata": {},
   "source": [
    "### chnage \"build_image\": True, once to build the default image for the project"
   ]
  },
  {
   "cell_type": "code",
   "execution_count": 4,
   "id": "56200c2a-bc19-4da9-b247-f9ffda79dc86",
   "metadata": {},
   "outputs": [
    {
     "name": "stdout",
     "output_type": "stream",
     "text": [
      "sqlalchemy version = 2.0.31\n",
      "current dir = /User/tmp1\n",
      "parent dir = /User/tmp1/../..\n",
      "Python version: 3.11.13 | packaged by conda-forge | (main, Jun  4 2025, 14:48:23) [GCC 13.3.0]\n",
      "sys.path: ['/User/tmp1/../..', '/User/tmp1/..', '/User/tmp1', '/spark/python/lib/py4j-0.10.9.5-src.zip', '/spark/python/lib/pyspark.zip', '/igz/java/libs/v3io-pyspark-e50e673f1af73b42bda987e8f93b9b6e1-rocky8.zip', '/User/.conda/envs/py311/lib/python311.zip', '/User/.conda/envs/py311/lib/python3.11', '/User/.conda/envs/py311/lib/python3.11/lib-dynload', '', '/User/.conda/envs/py311/lib/python3.11/site-packages', '/User/.conda/envs/py311/lib/python3.11/site-packages/setuptools/_vendor']\n",
      "PYTHONPATH (from environment): /spark/python/lib/py4j-0.10.9.5-src.zip:/spark/python/lib/pyspark.zip:/igz/java/libs/v3io-pyspark-e50e673f1af73b42bda987e8f93b9b6e1-rocky8.zip\n",
      "get_param source = git://github.com/xsqian/slim-call-center.git#main\n",
      "get_param default_image = .mlrun-project-image-kfp-with-mlrun-image-kfp\n",
      "get_param build_image = False\n",
      "Project Source: git://github.com/xsqian/slim-call-center.git#main\n",
      "outside default_image = .mlrun-project-image-kfp-with-mlrun-image-kfp\n",
      "indise default_image = .mlrun-project-image-kfp-with-mlrun-image-kfp\n",
      "default_image after = .mlrun-project-image-kfp-with-mlrun-image-kfp\n",
      "> 2025-07-07 17:10:42,328 [info] Project loaded successfully: {\"project_name\":\"kfp-with-mlrun-image-kfp-xingsheng\"}\n"
     ]
    },
    {
     "data": {
      "text/plain": [
       "<mlrun.projects.project.MlrunProject at 0x7f5dc2142f90>"
      ]
     },
     "execution_count": 4,
     "metadata": {},
     "output_type": "execute_result"
    }
   ],
   "source": [
    "project_name = \"kfp-with-mlrun-image-kfp\"\n",
    "\n",
    "project = mlrun.get_or_create_project(\n",
    "    name=project_name,\n",
    "    user_project=True,\n",
    "    parameters={\n",
    "        \"build_image\": False,\n",
    "        \"source\": \"git://github.com/xsqian/slim-call-center.git#main\",\n",
    "        \"default_image\": f'.mlrun-project-image-{project_name}',\n",
    "    },\n",
    ")\n",
    "project.save()"
   ]
  },
  {
   "cell_type": "code",
   "execution_count": 5,
   "id": "d0c13c83-cdeb-43ab-90aa-3fdb5020021a",
   "metadata": {},
   "outputs": [
    {
     "name": "stdout",
     "output_type": "stream",
     "text": [
      "> 2025-07-07 17:10:46,079 [info] Submitting remote workflow: {\"project_name\":\"kfp-with-mlrun-image-kfp-xingsheng\",\"schedule\":null,\"workflow_engine\":\"kfp\"}\n",
      "> 2025-07-07 17:11:08,945 [info] Started run workflow kfp-with-mlrun-image-kfp-xingsheng-dummy with run id = '448731fb-3d3b-40f6-83f9-166e8d015195' by remote engine\n",
      "> 2025-07-07 17:11:08,947 [info] Waiting for pipeline run completion: {\"project\":\"kfp-with-mlrun-image-kfp-xingsheng\",\"run_id\":\"448731fb-3d3b-40f6-83f9-166e8d015195\"}\n"
     ]
    },
    {
     "data": {
      "text/html": [
       "<div id=\"5838985cb9e04be1a52c3f1aeec03100\">Temporary Display Content</div>"
      ],
      "text/plain": [
       "<IPython.core.display.HTML object>"
      ]
     },
     "metadata": {},
     "output_type": "display_data"
    },
    {
     "data": {
      "text/html": [
       "<h2>Run Results</h2><h3>[info] Workflow 448731fb-3d3b-40f6-83f9-166e8d015195 finished, state=Succeeded</h3><br>click the hyper links below to see detailed results<br><table border=\"1\" class=\"dataframe\">\n",
       "  <thead>\n",
       "    <tr style=\"text-align: right;\">\n",
       "      <th>uid</th>\n",
       "      <th>start</th>\n",
       "      <th>end</th>\n",
       "      <th>state</th>\n",
       "      <th>kind</th>\n",
       "      <th>name</th>\n",
       "      <th>parameters</th>\n",
       "      <th>results</th>\n",
       "    </tr>\n",
       "  </thead>\n",
       "  <tbody>\n",
       "    <tr>\n",
       "      <td><div title=\"e1b9da65df524816a007e8b3e21981be\"><a href=\"https://dashboard.default-tenant.app.cst-360.iguazio-cd0.com/mlprojects/kfp-with-mlrun-image-kfp-xingsheng/jobs/monitor-jobs/printdummy/e1b9da65df524816a007e8b3e21981be/overview\" target=\"_blank\" >...e21981be</a></div></td>\n",
       "      <td>Jul 07 17:11:26</td>\n",
       "      <td>2025-07-07 17:11:36.811587+00:00</td>\n",
       "      <td>completed</td>\n",
       "      <td>run</td>\n",
       "      <td>printdummy</td>\n",
       "      <td></td>\n",
       "      <td></td>\n",
       "    </tr>\n",
       "    <tr>\n",
       "      <td><div title=\"0b949fcf503f4732abe6a1f977983663\"><a href=\"https://dashboard.default-tenant.app.cst-360.iguazio-cd0.com/mlprojects/kfp-with-mlrun-image-kfp-xingsheng/jobs/monitor-jobs/another-dummy/0b949fcf503f4732abe6a1f977983663/overview\" target=\"_blank\" >...77983663</a></div></td>\n",
       "      <td>Jul 07 17:11:26</td>\n",
       "      <td>2025-07-07 17:11:26.842813+00:00</td>\n",
       "      <td>completed</td>\n",
       "      <td>run</td>\n",
       "      <td>another-dummy</td>\n",
       "      <td></td>\n",
       "      <td></td>\n",
       "    </tr>\n",
       "  </tbody>\n",
       "</table>"
      ],
      "text/plain": [
       "<IPython.core.display.HTML object>"
      ]
     },
     "metadata": {},
     "output_type": "display_data"
    },
    {
     "data": {
      "text/plain": [
       "448731fb-3d3b-40f6-83f9-166e8d015195"
      ]
     },
     "execution_count": 5,
     "metadata": {},
     "output_type": "execute_result"
    }
   ],
   "source": [
    "project.run('dummy', dirty=True, watch=True, engine=\"remote\", timeout=60 * 60, arguments={\"build_image\": False,}) "
   ]
  },
  {
   "cell_type": "code",
   "execution_count": null,
   "id": "9e2a5459-0b62-4083-a679-2edc343410bd",
   "metadata": {},
   "outputs": [],
   "source": []
  }
 ],
 "metadata": {
  "kernelspec": {
   "display_name": "py311",
   "language": "python",
   "name": "conda-env-.conda-py311-py"
  },
  "language_info": {
   "codemirror_mode": {
    "name": "ipython",
    "version": 3
   },
   "file_extension": ".py",
   "mimetype": "text/x-python",
   "name": "python",
   "nbconvert_exporter": "python",
   "pygments_lexer": "ipython3",
   "version": "3.11.13"
  }
 },
 "nbformat": 4,
 "nbformat_minor": 5
}
