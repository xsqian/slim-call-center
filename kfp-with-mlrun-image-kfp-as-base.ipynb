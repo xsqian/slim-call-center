{
 "cells": [
  {
   "cell_type": "markdown",
   "id": "e7ae5205-27c9-4d80-9430-45af76525578",
   "metadata": {},
   "source": [
    "Here is the env:\n",
    "- python 3.11\n",
    "- mlrun 1.9.1"
   ]
  },
  {
   "cell_type": "code",
   "execution_count": 1,
   "id": "e3f63b33-b7a4-4c01-8d4c-58eb7f0bdbbd",
   "metadata": {},
   "outputs": [
    {
     "name": "stdout",
     "output_type": "stream",
     "text": [
      "1.9.1\n"
     ]
    }
   ],
   "source": [
    "import mlrun\n",
    "print(mlrun.__version__)"
   ]
  },
  {
   "cell_type": "code",
   "execution_count": 2,
   "id": "56200c2a-bc19-4da9-b247-f9ffda79dc86",
   "metadata": {},
   "outputs": [
    {
     "name": "stdout",
     "output_type": "stream",
     "text": [
      "sqlalchemy version = 2.0.31\n",
      "current dir = /User/tmp1\n",
      "parent dir = /User/tmp1/../..\n",
      "Python version: 3.11.13 | packaged by conda-forge | (main, Jun  4 2025, 14:48:23) [GCC 13.3.0]\n",
      "sys.path: ['/User/tmp1/../..', '/User/tmp1/..', '/User/tmp1', '/spark/python/lib/py4j-0.10.9.5-src.zip', '/spark/python/lib/pyspark.zip', '/igz/java/libs/v3io-pyspark-e50e673f1af73b42bda987e8f93b9b6e1-rocky8.zip', '/User/.conda/envs/py311/lib/python311.zip', '/User/.conda/envs/py311/lib/python3.11', '/User/.conda/envs/py311/lib/python3.11/lib-dynload', '', '/User/.conda/envs/py311/lib/python3.11/site-packages', '/User/.conda/envs/py311/lib/python3.11/site-packages/setuptools/_vendor']\n",
      "PYTHONPATH (from environment): /spark/python/lib/py4j-0.10.9.5-src.zip:/spark/python/lib/pyspark.zip:/igz/java/libs/v3io-pyspark-e50e673f1af73b42bda987e8f93b9b6e1-rocky8.zip\n",
      "default_image_name before = .mlrun-project-image-kfp-with-mlrun-image-kfp\n",
      "Project Source: v3io:///projects/kfp-with-mlrun-image-kfp/archive1.zip\n",
      "Building default image for the demo:\n",
      "> 2025-07-03 16:59:05,806 [info] Started building image: .mlrun-project-image-kfp-with-mlrun-image-kfp\n",
      "\u001b[36mINFO\u001b[0m[0000] Retrieving image manifest mlrun/mlrun-kfp:1.9.1 \n",
      "\u001b[36mINFO\u001b[0m[0000] Retrieving image mlrun/mlrun-kfp:1.9.1 from registry index.docker.io \n",
      "\u001b[36mINFO\u001b[0m[0005] Built cross stage deps: map[]                \n",
      "\u001b[36mINFO\u001b[0m[0005] Retrieving image manifest mlrun/mlrun-kfp:1.9.1 \n",
      "\u001b[36mINFO\u001b[0m[0005] Returning cached image manifest              \n",
      "\u001b[36mINFO\u001b[0m[0005] Executing 0 build triggers                   \n",
      "\u001b[36mINFO\u001b[0m[0005] Building stage 'mlrun/mlrun-kfp:1.9.1' [idx: '0', base-idx: '-1'] \n",
      "\u001b[36mINFO\u001b[0m[0005] Unpacking rootfs as cmd RUN python --version requires it. \n",
      "\u001b[36mINFO\u001b[0m[0030] ARG Key=Value                                \n",
      "\u001b[36mINFO\u001b[0m[0030] RUN python --version                         \n",
      "\u001b[36mINFO\u001b[0m[0030] Initializing snapshotter ...                 \n",
      "\u001b[36mINFO\u001b[0m[0030] Taking snapshot of full filesystem...        \n",
      "\u001b[36mINFO\u001b[0m[0048] Cmd: /bin/sh                                 \n",
      "\u001b[36mINFO\u001b[0m[0048] Args: [-c python --version]                  \n",
      "\u001b[36mINFO\u001b[0m[0048] Running: [/bin/sh -c python --version]       \n",
      "Python 3.9.23\n",
      "\u001b[36mINFO\u001b[0m[0048] Taking snapshot of full filesystem...        \n",
      "\u001b[36mINFO\u001b[0m[0051] No files were changed, appending empty layer to config. No layer added to image. \n",
      "\u001b[36mINFO\u001b[0m[0051] RUN pip install SQLAlchemy==2.0.31           \n",
      "\u001b[36mINFO\u001b[0m[0051] Cmd: /bin/sh                                 \n",
      "\u001b[36mINFO\u001b[0m[0051] Args: [-c pip install SQLAlchemy==2.0.31]    \n",
      "\u001b[36mINFO\u001b[0m[0051] Running: [/bin/sh -c pip install SQLAlchemy==2.0.31] \n",
      "Collecting SQLAlchemy==2.0.31\n",
      "  Downloading SQLAlchemy-2.0.31-cp39-cp39-manylinux_2_17_x86_64.manylinux2014_x86_64.whl.metadata (9.6 kB)\n",
      "Requirement already satisfied: typing-extensions>=4.6.0 in /usr/local/lib/python3.9/site-packages (from SQLAlchemy==2.0.31) (4.14.0)\n",
      "Requirement already satisfied: greenlet!=0.4.17 in /usr/local/lib/python3.9/site-packages (from SQLAlchemy==2.0.31) (3.2.3)\n",
      "Downloading SQLAlchemy-2.0.31-cp39-cp39-manylinux_2_17_x86_64.manylinux2014_x86_64.whl (3.1 MB)\n",
      "   ━━━━━━━━━━━━━━━━━━━━━━━━━━━━━━━━━━━━━━━━ 3.1/3.1 MB 76.0 MB/s eta 0:00:00\n",
      "Installing collected packages: SQLAlchemy\n",
      "  Attempting uninstall: SQLAlchemy\n",
      "    Found existing installation: SQLAlchemy 1.4.54\n",
      "    Uninstalling SQLAlchemy-1.4.54:\n",
      "      Successfully uninstalled SQLAlchemy-1.4.54\n",
      "Successfully installed SQLAlchemy-2.0.31\n",
      "WARNING: Running pip as the 'root' user can result in broken permissions and conflicting behaviour with the system package manager, possibly rendering your system unusable. It is recommended to use a virtual environment instead: https://pip.pypa.io/warnings/venv. Use the --root-user-action option if you know what you are doing and want to suppress this warning.\n",
      "\n",
      "[notice] A new release of pip is available: 25.0.1 -> 25.1.1\n",
      "[notice] To update, run: pip install --upgrade pip\n",
      "\u001b[36mINFO\u001b[0m[0055] Taking snapshot of full filesystem...        \n",
      "\u001b[36mINFO\u001b[0m[0065] RUN pip list | grep SQLAlchemy               \n",
      "\u001b[36mINFO\u001b[0m[0065] Cmd: /bin/sh                                 \n",
      "\u001b[36mINFO\u001b[0m[0065] Args: [-c pip list | grep SQLAlchemy]        \n",
      "\u001b[36mINFO\u001b[0m[0065] Running: [/bin/sh -c pip list | grep SQLAlchemy] \n",
      "SQLAlchemy                         2.0.31\n",
      "\u001b[36mINFO\u001b[0m[0065] Taking snapshot of full filesystem...        \n",
      "\u001b[36mINFO\u001b[0m[0069] No files were changed, appending empty layer to config. No layer added to image. \n",
      "\u001b[36mINFO\u001b[0m[0069] Pushing image to docker-registry.default-tenant.app.cst-360.iguazio-cd0.com/mlrun-project-image-kfp-with-mlrun-image-kfp \n",
      "\u001b[36mINFO\u001b[0m[0069] Pushed docker-registry.default-tenant.app.cst-360.iguazio-cd0.com/mlrun-project-image-kfp-with-mlrun-image-kfp@sha256:dfefb0db1c2250b7e48b7c58039409cfadaae88f50c5fbf66e20081be5d2f667 \n",
      "> 2025-07-03 17:00:19,586 [info] Function is being deleted: {\"function_name\":\"mlrun--project--image--builder\",\"project_name\":\"default\"}\n",
      "> 2025-07-03 17:00:19,608 [info] Function deleted: {\"function_name\":\"mlrun--project--image--builder\",\"project_name\":\"default\"}\n",
      "build result = BuildStatus(ready=True, outputs={'image': '.mlrun-project-image-kfp-with-mlrun-image-kfp'})\n",
      "default_image_name after = .mlrun-project-image-kfp-with-mlrun-image-kfp\n",
      "> 2025-07-03 17:00:20,023 [info] Project loaded successfully: {\"project_name\":\"kfp-with-mlrun-image-kfp-xingsheng\"}\n"
     ]
    }
   ],
   "source": [
    "project_name = \"kfp-with-mlrun-image-kfp\"\n",
    "\n",
    "project = mlrun.get_or_create_project(\n",
    "    name=project_name,\n",
    "    user_project=True,\n",
    "    parameters={\n",
    "        \"build_image\": True,\n",
    "        \"source\": \"git://github.com/xsqian/slim-call-center.git\",\n",
    "        \"default_image_name\": f'.mlrun-project-image-{project_name}'\n",
    "    },\n",
    ")"
   ]
  },
  {
   "cell_type": "markdown",
   "id": "d8e41eba-178e-4451-862c-ab36db530f3b",
   "metadata": {},
   "source": [
    "SQLAlchemy is for illustration, the issue is originally from demo-all-center"
   ]
  },
  {
   "cell_type": "code",
   "execution_count": 6,
   "id": "d0c13c83-cdeb-43ab-90aa-3fdb5020021a",
   "metadata": {},
   "outputs": [
    {
     "name": "stdout",
     "output_type": "stream",
     "text": [
      "> 2025-07-03 17:09:41,154 [info] Submitting remote workflow: {\"project_name\":\"kfp-with-mlrun-image-kfp-xingsheng\",\"schedule\":null,\"workflow_engine\":\"kfp\"}\n",
      "> 2025-07-03 17:09:56,860 [info] Started run workflow kfp-with-mlrun-image-kfp-xingsheng-dummy with run id = '4cf4fb39-d1dd-4d63-aeb8-1390c625c897' by remote engine\n",
      "> 2025-07-03 17:09:56,861 [info] Waiting for pipeline run completion: {\"project\":\"kfp-with-mlrun-image-kfp-xingsheng\",\"run_id\":\"4cf4fb39-d1dd-4d63-aeb8-1390c625c897\"}\n"
     ]
    },
    {
     "data": {
      "text/html": [
       "<div id=\"a7f20dc256a94526a48fc8ef0fb9e16f\">Temporary Display Content</div>"
      ],
      "text/plain": [
       "<IPython.core.display.HTML object>"
      ]
     },
     "metadata": {},
     "output_type": "display_data"
    },
    {
     "data": {
      "text/html": [
       "<h2>Run Results</h2><h3>[info] Workflow 4cf4fb39-d1dd-4d63-aeb8-1390c625c897 finished, state=Succeeded</h3><br>click the hyper links below to see detailed results<br><table border=\"1\" class=\"dataframe\">\n",
       "  <thead>\n",
       "    <tr style=\"text-align: right;\">\n",
       "      <th>uid</th>\n",
       "      <th>start</th>\n",
       "      <th>end</th>\n",
       "      <th>state</th>\n",
       "      <th>kind</th>\n",
       "      <th>name</th>\n",
       "      <th>parameters</th>\n",
       "      <th>results</th>\n",
       "    </tr>\n",
       "  </thead>\n",
       "  <tbody>\n",
       "    <tr>\n",
       "      <td><div title=\"8cafc0d9eb574b93bcd9d96d3e2b0002\"><a href=\"https://dashboard.default-tenant.app.cst-360.iguazio-cd0.com/mlprojects/kfp-with-mlrun-image-kfp-xingsheng/jobs/monitor-jobs/printdummy/8cafc0d9eb574b93bcd9d96d3e2b0002/overview\" target=\"_blank\" >...3e2b0002</a></div></td>\n",
       "      <td>Jul 03 17:10:05</td>\n",
       "      <td>2025-07-03 17:10:16.377432+00:00</td>\n",
       "      <td>completed</td>\n",
       "      <td>run</td>\n",
       "      <td>printdummy</td>\n",
       "      <td></td>\n",
       "      <td></td>\n",
       "    </tr>\n",
       "  </tbody>\n",
       "</table>"
      ],
      "text/plain": [
       "<IPython.core.display.HTML object>"
      ]
     },
     "metadata": {},
     "output_type": "display_data"
    },
    {
     "data": {
      "text/plain": [
       "4cf4fb39-d1dd-4d63-aeb8-1390c625c897"
      ]
     },
     "execution_count": 6,
     "metadata": {},
     "output_type": "execute_result"
    }
   ],
   "source": [
    "project.run('dummy', dirty=True, watch=True, engine=\"remote\")"
   ]
  },
  {
   "cell_type": "code",
   "execution_count": null,
   "id": "3fe855e1-0719-4449-9cf1-f26bd2890f32",
   "metadata": {},
   "outputs": [],
   "source": []
  }
 ],
 "metadata": {
  "kernelspec": {
   "display_name": "py311",
   "language": "python",
   "name": "conda-env-.conda-py311-py"
  },
  "language_info": {
   "codemirror_mode": {
    "name": "ipython",
    "version": 3
   },
   "file_extension": ".py",
   "mimetype": "text/x-python",
   "name": "python",
   "nbconvert_exporter": "python",
   "pygments_lexer": "ipython3",
   "version": "3.11.13"
  }
 },
 "nbformat": 4,
 "nbformat_minor": 5
}
