{
 "cells": [
  {
   "cell_type": "markdown",
   "id": "e7ae5205-27c9-4d80-9430-45af76525578",
   "metadata": {},
   "source": [
    "Here is the env:\n",
    "- python 3.11\n",
    "- mlrun 1.9.1"
   ]
  },
  {
   "cell_type": "code",
   "execution_count": 1,
   "id": "e3f63b33-b7a4-4c01-8d4c-58eb7f0bdbbd",
   "metadata": {},
   "outputs": [
    {
     "name": "stdout",
     "output_type": "stream",
     "text": [
      "1.9.1\n"
     ]
    }
   ],
   "source": [
    "import mlrun\n",
    "print(mlrun.__version__)"
   ]
  },
  {
   "cell_type": "code",
   "execution_count": null,
   "id": "56200c2a-bc19-4da9-b247-f9ffda79dc86",
   "metadata": {},
   "outputs": [],
   "source": [
    "project_name = \"kfp-with-mlrun-image-kfp\"\n",
    "\n",
    "project = mlrun.get_or_create_project(\n",
    "    name=project_name,\n",
    "    user_project=True,\n",
    "    parameters={\n",
    "        \"build_image\": True,\n",
    "        \"source\": \"git://github.com/xsqian/slim-call-center.git#main\",\n",
    "        \"default_image_name\": f'.mlrun-project-image-{project_name}',\n",
    "        \"default_image\": '.mlrun-project-image-kfp-with-mlrun-image-kfp',\n",
    "    },\n",
    ")\n",
    "project.save()"
   ]
  },
  {
   "cell_type": "code",
   "execution_count": null,
   "id": "d0c13c83-cdeb-43ab-90aa-3fdb5020021a",
   "metadata": {},
   "outputs": [],
   "source": [
    "project.run('dummy', dirty=True, watch=True, engine=\"remote\", timeout=60 * 60, arguments={\"build_image\": False,}) "
   ]
  },
  {
   "cell_type": "code",
   "execution_count": null,
   "id": "3fe855e1-0719-4449-9cf1-f26bd2890f32",
   "metadata": {},
   "outputs": [],
   "source": []
  },
  {
   "cell_type": "code",
   "execution_count": null,
   "id": "9e2a5459-0b62-4083-a679-2edc343410bd",
   "metadata": {},
   "outputs": [],
   "source": []
  }
 ],
 "metadata": {
  "kernelspec": {
   "display_name": "py311",
   "language": "python",
   "name": "conda-env-.conda-py311-py"
  },
  "language_info": {
   "codemirror_mode": {
    "name": "ipython",
    "version": 3
   },
   "file_extension": ".py",
   "mimetype": "text/x-python",
   "name": "python",
   "nbconvert_exporter": "python",
   "pygments_lexer": "ipython3",
   "version": "3.11.13"
  }
 },
 "nbformat": 4,
 "nbformat_minor": 5
}
