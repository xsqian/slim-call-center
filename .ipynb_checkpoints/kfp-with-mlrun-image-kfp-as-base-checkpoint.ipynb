{
 "cells": [
  {
   "cell_type": "markdown",
   "id": "e7ae5205-27c9-4d80-9430-45af76525578",
   "metadata": {},
   "source": [
    "Here is the env:\n",
    "- python 3.11\n",
    "- mlrun 1.9.1"
   ]
  },
  {
   "cell_type": "code",
   "execution_count": 1,
   "id": "e3f63b33-b7a4-4c01-8d4c-58eb7f0bdbbd",
   "metadata": {},
   "outputs": [
    {
     "name": "stdout",
     "output_type": "stream",
     "text": [
      "1.9.1\n"
     ]
    }
   ],
   "source": [
    "import mlrun\n",
    "print(mlrun.__version__)"
   ]
  },
  {
   "cell_type": "code",
   "execution_count": 5,
   "id": "56200c2a-bc19-4da9-b247-f9ffda79dc86",
   "metadata": {},
   "outputs": [
    {
     "name": "stdout",
     "output_type": "stream",
     "text": [
      "sqlalchemy version = 2.0.31\n",
      "current dir = /User/tmp1\n",
      "parent dir = /User/tmp1/../..\n",
      "Python version: 3.11.13 | packaged by conda-forge | (main, Jun  4 2025, 14:48:23) [GCC 13.3.0]\n",
      "sys.path: ['/User/tmp1/../..', '/User/tmp1/..', '/User/tmp1', '/User/tmp1/../..', '/User/tmp1/..', '/User/tmp1', '/spark/python/lib/py4j-0.10.9.5-src.zip', '/spark/python/lib/pyspark.zip', '/igz/java/libs/v3io-pyspark-e50e673f1af73b42bda987e8f93b9b6e1-rocky8.zip', '/User/.conda/envs/py311/lib/python311.zip', '/User/.conda/envs/py311/lib/python3.11', '/User/.conda/envs/py311/lib/python3.11/lib-dynload', '', '/User/.conda/envs/py311/lib/python3.11/site-packages', '/User/.conda/envs/py311/lib/python3.11/site-packages/setuptools/_vendor']\n",
      "PYTHONPATH (from environment): /spark/python/lib/py4j-0.10.9.5-src.zip:/spark/python/lib/pyspark.zip:/igz/java/libs/v3io-pyspark-e50e673f1af73b42bda987e8f93b9b6e1-rocky8.zip\n",
      "default_image_name before = .mlrun-project-image-kfp-with-mlrun-image-kfp\n",
      "Project Source: git://github.com/xsqian/slim-call-center.git#main\n",
      "default_image_name after = .mlrun-project-image-kfp-with-mlrun-image-kfp\n",
      "> 2025-07-05 15:25:11,431 [info] Project loaded successfully: {\"project_name\":\"kfp-with-mlrun-image-kfp-xingsheng\"}\n"
     ]
    },
    {
     "data": {
      "text/plain": [
       "<mlrun.projects.project.MlrunProject at 0x7f6d5c1f2910>"
      ]
     },
     "execution_count": 5,
     "metadata": {},
     "output_type": "execute_result"
    }
   ],
   "source": [
    "project_name = \"kfp-with-mlrun-image-kfp\"\n",
    "\n",
    "project = mlrun.get_or_create_project(\n",
    "    name=project_name,\n",
    "    user_project=True,\n",
    "    parameters={\n",
    "        \"build_image\": False,\n",
    "        \"source\": \"git://github.com/xsqian/slim-call-center.git#main\",\n",
    "        \"default_image_name\": f'.mlrun-project-image-{project_name}'\n",
    "    },\n",
    ")\n",
    "project.save()"
   ]
  },
  {
   "cell_type": "code",
   "execution_count": 7,
   "id": "d0c13c83-cdeb-43ab-90aa-3fdb5020021a",
   "metadata": {},
   "outputs": [
    {
     "name": "stdout",
     "output_type": "stream",
     "text": [
      "> 2025-07-05 15:36:12,889 [info] Submitting remote workflow: {\"project_name\":\"kfp-with-mlrun-image-kfp-xingsheng\",\"schedule\":null,\"workflow_engine\":\"kfp\"}\n",
      "> 2025-07-05 15:41:12,993 [warning] Operation did not complete on time. last exception: details: MLRunNotFoundError('Workflow ID of run kfp-with-mlrun-image-kfp-xingsheng:aab235ab5a3c48fa8356b883ef6200ec not found')\n",
      "> 2025-07-05 15:41:12,993 [error] Workflow run failed: {\"exc_info\":[\"Traceback (most recent call last):\\n\",\"  File \\\"/User/.conda/envs/py311/lib/python3.11/site-packages/mlrun/errors.py\\\", line 96, in raise_for_status\\n    response.raise_for_status()\\n\",\"  File \\\"/User/.conda/envs/py311/lib/python3.11/site-packages/requests/models.py\\\", line 1026, in raise_for_status\\n    raise HTTPError(http_error_msg, response=self)\\n\",\"requests.exceptions.HTTPError: 404 Client Error: Not Found for url: http://mlrun-api:8080/api/v1/projects/kfp-with-mlrun-image-kfp-xingsheng/workflows/dummy/runs/aab235ab5a3c48fa8356b883ef6200ec?engine=kfp\\n\",\"\\nThe above exception was the direct cause of the following exception:\\n\\n\",\"Traceback (most recent call last):\\n\",\"  File \\\"/User/.conda/envs/py311/lib/python3.11/site-packages/mlrun/utils/retryer.py\\\", line 136, in _perform_call\\n    result = self.function(*self.args, **self.kwargs)\\n             ^^^^^^^^^^^^^^^^^^^^^^^^^^^^^^^^^^^^^^^^\\n\",\"  File \\\"/User/.conda/envs/py311/lib/python3.11/site-packages/mlrun/projects/pipelines.py\\\", line 900, in _get_workflow_id_or_bail\\n    return run_db.get_workflow_id(\\n           ^^^^^^^^^^^^^^^^^^^^^^^\\n\",\"  File \\\"/User/.conda/envs/py311/lib/python3.11/site-packages/mlrun/db/httpdb.py\\\", line 4621, in get_workflow_id\\n    response = self.api_call(\\n               ^^^^^^^^^^^^^^\\n\",\"  File \\\"/User/.conda/envs/py311/lib/python3.11/site-packages/mlrun/db/httpdb.py\\\", line 303, in api_call\\n    mlrun.errors.raise_for_status(response, error)\\n\",\"  File \\\"/User/.conda/envs/py311/lib/python3.11/site-packages/mlrun/errors.py\\\", line 105, in raise_for_status\\n    raise STATUS_ERRORS[status_code](error_message, response=response) from exc\\n\",\"mlrun.errors.MLRunNotFoundError: details: MLRunNotFoundError('Workflow ID of run kfp-with-mlrun-image-kfp-xingsheng:aab235ab5a3c48fa8356b883ef6200ec not found')\\n\",\"\\nThe above exception was the direct cause of the following exception:\\n\\n\",\"Traceback (most recent call last):\\n\",\"  File \\\"/User/.conda/envs/py311/lib/python3.11/site-packages/mlrun/projects/pipelines.py\\\", line 919, in run\\n    response = retry_until_successful(\\n               ^^^^^^^^^^^^^^^^^^^^^^^\\n\",\"  File \\\"/User/.conda/envs/py311/lib/python3.11/site-packages/mlrun/utils/helpers.py\\\", line 1034, in retry_until_successful\\n    return Retryer(backoff, timeout, logger, verbose, _function, *args, **kwargs).run()\\n           ^^^^^^^^^^^^^^^^^^^^^^^^^^^^^^^^^^^^^^^^^^^^^^^^^^^^^^^^^^^^^^^^^^^^^^^^^^^^\\n\",\"  File \\\"/User/.conda/envs/py311/lib/python3.11/site-packages/mlrun/utils/retryer.py\\\", line 117, in run\\n    self._raise_last_exception()\\n\",\"  File \\\"/User/.conda/envs/py311/lib/python3.11/site-packages/mlrun/utils/retryer.py\\\", line 168, in _raise_last_exception\\n    raise mlrun.errors.MLRunRetryExhaustedError(\\n\",\"mlrun.errors.MLRunRetryExhaustedError: Failed to execute command by the given deadline. last_exception: details: MLRunNotFoundError('Workflow ID of run kfp-with-mlrun-image-kfp-xingsheng:aab235ab5a3c48fa8356b883ef6200ec not found'), function_name: _get_workflow_id_or_bail, timeout: 300\\n\"]}\n"
     ]
    },
    {
     "data": {
      "text/html": [
       "[error] :x: Workflow dummy run failed!, error: Failed to execute command by the given deadline. last_exception: details: MLRunNotFoundError('Workflow ID of run kfp-with-mlrun-image-kfp-xingsheng:aab235ab5a3c48fa8356b883ef6200ec not found'), function_name: _get_workflow_id_or_bail, timeout: 300, caused by: details: MLRunNotFoundError('Workflow ID of run kfp-with-mlrun-image-kfp-xingsheng:aab235ab5a3c48fa8356b883ef6200ec not found'), caused by: 404 Client Error: Not Found for url: http://mlrun-api:8080/api/v1/projects/kfp-with-mlrun-image-kfp-xingsheng/workflows/dummy/runs/aab235ab5a3c48fa8356b883ef6200ec?engine=kfp"
      ],
      "text/plain": [
       "<IPython.core.display.HTML object>"
      ]
     },
     "metadata": {},
     "output_type": "display_data"
    },
    {
     "data": {
      "text/plain": [
       "None"
      ]
     },
     "execution_count": 7,
     "metadata": {},
     "output_type": "execute_result"
    }
   ],
   "source": [
    "project.run('dummy', dirty=True, watch=True, engine=\"remote\", timeout=60 * 60, arguments={\"build_image\": False,}) "
   ]
  },
  {
   "cell_type": "code",
   "execution_count": null,
   "id": "3fe855e1-0719-4449-9cf1-f26bd2890f32",
   "metadata": {},
   "outputs": [],
   "source": []
  },
  {
   "cell_type": "code",
   "execution_count": null,
   "id": "9e2a5459-0b62-4083-a679-2edc343410bd",
   "metadata": {},
   "outputs": [],
   "source": []
  }
 ],
 "metadata": {
  "kernelspec": {
   "display_name": "py311",
   "language": "python",
   "name": "conda-env-.conda-py311-py"
  },
  "language_info": {
   "codemirror_mode": {
    "name": "ipython",
    "version": 3
   },
   "file_extension": ".py",
   "mimetype": "text/x-python",
   "name": "python",
   "nbconvert_exporter": "python",
   "pygments_lexer": "ipython3",
   "version": "3.11.13"
  }
 },
 "nbformat": 4,
 "nbformat_minor": 5
}
